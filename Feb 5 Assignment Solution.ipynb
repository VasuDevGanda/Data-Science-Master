{
 "cells": [
  {
   "cell_type": "markdown",
   "id": "9a21378e",
   "metadata": {},
   "source": [
    "#### Q1. Explain Class and Object with respect to Object-Oriented Programming. Give a suitable example."
   ]
  },
  {
   "cell_type": "markdown",
   "id": "b10eb706",
   "metadata": {},
   "source": [
    "* **Object** − Objects have states and behaviors. Example: A dog has states - color, name, breed as well as behaviors – wagging the tail, barking, eating. An object is an instance of a class.\n",
    "\n",
    "* **Class** − A class can be defined as a template/blueprint that describes the behavior/state that the object of its type support."
   ]
  },
  {
   "cell_type": "code",
   "execution_count": 1,
   "id": "a3b13c5f",
   "metadata": {},
   "outputs": [],
   "source": [
    "# Exapmle\n",
    "\n",
    "# create class\n",
    "class Bike:\n",
    "    name = \"\"\n",
    "    gear = 0\n",
    "\n",
    "# create objects of class\n",
    "bike1 = Bike()"
   ]
  },
  {
   "cell_type": "markdown",
   "id": "b3304ccc",
   "metadata": {},
   "source": [
    "#### Q2. Name the four pillars of OOPs."
   ]
  },
  {
   "cell_type": "markdown",
   "id": "2c330f7f",
   "metadata": {},
   "source": [
    "The four piller of Oops are inheritance, Polymorphism, Encapsulation and Abstraction"
   ]
  },
  {
   "cell_type": "markdown",
   "id": "e2ecf645",
   "metadata": {},
   "source": [
    "#### Q3. Explain why the __ init __ () function is used. Give a suitable example."
   ]
  },
  {
   "cell_type": "markdown",
   "id": "906dbb8d",
   "metadata": {},
   "source": [
    "__ init __ () function is used in constructor. Basically __ init __ () function is used to assign values to object properties, or other operations that are necessary to do when the object is being created"
   ]
  },
  {
   "cell_type": "code",
   "execution_count": 5,
   "id": "4e934186",
   "metadata": {},
   "outputs": [
    {
     "name": "stdout",
     "output_type": "stream",
     "text": [
      "vasu\n",
      "20\n"
     ]
    },
    {
     "data": {
      "text/plain": [
       "('vasu', 20)"
      ]
     },
     "execution_count": 5,
     "metadata": {},
     "output_type": "execute_result"
    }
   ],
   "source": [
    "# Exapmle\n",
    "class Person:\n",
    "    \n",
    "    def __init__(self, name, age):\n",
    "        self.name = name\n",
    "        self.age = age\n",
    "    \n",
    "    def show_detail(self):\n",
    "        return self.name, self.age\n",
    "    \n",
    "\n",
    "p1 = Person(\"vasu\", 20)\n",
    "\n",
    "print(p1.name)\n",
    "print(p1.age)\n",
    "p1.show_detail()"
   ]
  },
  {
   "cell_type": "markdown",
   "id": "a9fe4176",
   "metadata": {},
   "source": [
    "#### Q4. Why self is used in OOPs?"
   ]
  },
  {
   "cell_type": "markdown",
   "id": "679e2f18",
   "metadata": {},
   "source": [
    "The self parameter is a reference to the current instance of the class, and is used to access variables that belongs to the class.\n",
    "\n",
    "It does not have to be named self , you can call it whatever you like, but it has to be the first parameter of any function in the class:"
   ]
  },
  {
   "cell_type": "markdown",
   "id": "cbfc2f87",
   "metadata": {},
   "source": [
    "#### Q5. What is inheritance? Give an example for each type of inheritance."
   ]
  },
  {
   "cell_type": "markdown",
   "id": "a8e2cfe9",
   "metadata": {},
   "source": [
    "Inheritance allows us to define a class that inherits all the methods and properties from another class.\n",
    "\n",
    "* Parent class is the class being inherited from, also called base class.\n",
    "\n",
    "* Child class is the class that inherits from another class, also called derived class.\n",
    "\n"
   ]
  },
  {
   "cell_type": "code",
   "execution_count": 6,
   "id": "1261ddcf",
   "metadata": {},
   "outputs": [
    {
     "name": "stdout",
     "output_type": "stream",
     "text": [
      "you are inside parent class\n",
      "you are inside child class\n"
     ]
    }
   ],
   "source": [
    "# Single inheritance\n",
    "\n",
    "class vehicle:\n",
    "    def func1(self):\n",
    "        print(\"you are inside parent class\")\n",
    "        \n",
    "class car(vehicle):\n",
    "    def func2(self):\n",
    "        print(\"you are inside child class\")\n",
    "        \n",
    "a = car()\n",
    "a.func1()\n",
    "a.func2()"
   ]
  },
  {
   "cell_type": "code",
   "execution_count": 15,
   "id": "5a44db55",
   "metadata": {},
   "outputs": [
    {
     "name": "stdout",
     "output_type": "stream",
     "text": [
      "Father\n",
      "Mother\n",
      "child\n"
     ]
    }
   ],
   "source": [
    "# Multiple Inheritance\n",
    "\n",
    "class father:\n",
    "    def func1(self):\n",
    "        print(\"Father\")\n",
    "        \n",
    "class Mother:\n",
    "    def func2(self):\n",
    "        print(\"Mother\")\n",
    "        \n",
    "class son(father,Mother):\n",
    "    def func3(self):\n",
    "        print(\"child\")\n",
    "        \n",
    "a = son()\n",
    "a.func1()\n",
    "a.func2()\n",
    "a.func3()"
   ]
  },
  {
   "cell_type": "code",
   "execution_count": 12,
   "id": "3fbdb7f2",
   "metadata": {},
   "outputs": [
    {
     "name": "stdout",
     "output_type": "stream",
     "text": [
      "Father's father\n",
      "Father\n",
      "child\n"
     ]
    }
   ],
   "source": [
    "# Multilevel Inheritance\n",
    "class grand_father:\n",
    "    def func1(self):\n",
    "        print(\"Father's father\")\n",
    "        \n",
    "class father(grand_father):\n",
    "    def func2(self):\n",
    "        print(\"Father\")\n",
    "        \n",
    "class son(father):\n",
    "    def func3(self):\n",
    "        print(\"child\")\n",
    "        \n",
    "a = son()\n",
    "a.func1()\n",
    "a.func2()\n",
    "a.func3()"
   ]
  },
  {
   "cell_type": "code",
   "execution_count": 16,
   "id": "f0d3541e",
   "metadata": {},
   "outputs": [
    {
     "name": "stdout",
     "output_type": "stream",
     "text": [
      "Father\n",
      "first child\n",
      "Father\n",
      "second child\n"
     ]
    }
   ],
   "source": [
    "# Hierarchical Inheritance\n",
    "class father:\n",
    "    def func1(self):\n",
    "        print(\"Father\")\n",
    "        \n",
    "class son1(father):\n",
    "    def func2(self):\n",
    "        print(\"first child\")\n",
    "        \n",
    "class son2(father):\n",
    "    def func3(self):\n",
    "        print(\"second child\")\n",
    "        \n",
    "a = son1()\n",
    "a.func1()\n",
    "a.func2()\n",
    "\n",
    "b = son2()\n",
    "b.func1()\n",
    "b.func3()"
   ]
  },
  {
   "cell_type": "code",
   "execution_count": 23,
   "id": "0ddbe082",
   "metadata": {},
   "outputs": [
    {
     "name": "stdout",
     "output_type": "stream",
     "text": [
      "Father\n",
      "Mother\n",
      "First child\n"
     ]
    }
   ],
   "source": [
    "# Hybrid Inheritance\n",
    "class father:\n",
    "    def func1(self):\n",
    "        print(\"Father\")\n",
    "        \n",
    "class Mother:\n",
    "    def func2(self):\n",
    "        print(\"Mother\")\n",
    "        \n",
    "class son1(father,Mother):\n",
    "    def func3(self):\n",
    "        print(\"First child\")\n",
    "        \n",
    "class son2(father):\n",
    "    def func4(self):\n",
    "        print(\"Second child\")\n",
    "        \n",
    "a = son1()\n",
    "a.func1()\n",
    "a.func2()\n",
    "a.func3()\n",
    "\n",
    "b ="
   ]
  }
 ],
 "metadata": {
  "kernelspec": {
   "display_name": "Python 3 (ipykernel)",
   "language": "python",
   "name": "python3"
  },
  "language_info": {
   "codemirror_mode": {
    "name": "ipython",
    "version": 3
   },
   "file_extension": ".py",
   "mimetype": "text/x-python",
   "name": "python",
   "nbconvert_exporter": "python",
   "pygments_lexer": "ipython3",
   "version": "3.9.13"
  }
 },
 "nbformat": 4,
 "nbformat_minor": 5
}
