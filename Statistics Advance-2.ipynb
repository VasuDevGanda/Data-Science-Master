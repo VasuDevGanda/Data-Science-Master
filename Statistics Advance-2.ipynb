{
 "cells": [
  {
   "cell_type": "markdown",
   "id": "a612e1ea",
   "metadata": {},
   "source": [
    "## Assignment : Statistics Advance-2"
   ]
  },
  {
   "cell_type": "markdown",
   "id": "02c62826",
   "metadata": {},
   "source": [
    "#### Q1: What are the Probability Mass Function (PMF) and Probability Density Function (PDF)? Explain with an example."
   ]
  },
  {
   "cell_type": "markdown",
   "id": "3595fa0e",
   "metadata": {},
   "source": [
    "**Ans:**\n",
    "- **PMF:** The Probability Mass function is defined on all the values of R, where it takes all the arguments of any real number. It doesn’t belong to the value of X when the argument value equals to zero and when the argument belongs to x, the value of PMF should be positive. E.g. Rolling of dice.\n",
    "\n",
    "- **PDF:** The Probability Density Function(PDF) defines the probability function representing the density of a continuous random variable lying between a specific range of values. In other words, the probability density function produces the likelihood of values of the continuous random variable. E.g. Heights of adults."
   ]
  },
  {
   "cell_type": "markdown",
   "id": "d8e570ee",
   "metadata": {},
   "source": [
    "#### Q2: What is Cumulative Density Function (CDF)? Explain with an example. Why CDF is used?"
   ]
  },
  {
   "cell_type": "markdown",
   "id": "ef79d48b",
   "metadata": {},
   "source": [
    "**Ans:** The Cumulative Distribution Function (CDF), of a real-valued random variable X, evaluated at x, is the probability function that X will take a value less than or equal to x. \n",
    "\n",
    "Example: Consider a simple example for CDF which is given by rolling a fair six-sided die, where X is the random variable\n",
    "\n",
    "We know that the probability of getting an outcome by rolling a six-sided die is given as:\n",
    "\n",
    "Probability of getting 1 = P(X≤ 1 ) = 1 / 6\n",
    "\n",
    "Probability of getting 2 = P(X≤ 2 ) = 2 / 6\n",
    "\n",
    "Probability of getting 3 = P(X≤ 3 ) = 3 / 6\n",
    "\n",
    "Probability of getting 4 = P(X≤ 4 ) = 4 / 6\n",
    "\n",
    "Probability of getting 5 = P(X≤ 5 ) = 5 / 6\n",
    "\n",
    "Probability of getting 6 = P(X≤ 6 ) = 6 / 6 = 1\n",
    "\n",
    "\n",
    "It is used to describe the probability distribution of random variables in a table. And with the help of these data, we can easily create a CDF plot in an excel sheet."
   ]
  },
  {
   "cell_type": "markdown",
   "id": "244b32be",
   "metadata": {},
   "source": [
    "#### Q3: What are some examples of situations where the normal distribution might be used as a model? Explain how the parameters of the normal distribution relate to the shape of the distribution."
   ]
  },
  {
   "cell_type": "markdown",
   "id": "af7481fe",
   "metadata": {},
   "source": [
    "**Ans:** Examples of situations are Height and weights of individuals, Modeling IQ scores, Measurement errors, stock market returns, and Test score etc.\n",
    "\n",
    "There are mainly two parameters which plays a criucial role in the shape of normal distribution. i.e. Mean and Standard Deviation.\n",
    "1. Mean(μ): he mean of the normal distribution represents its central tendency or average value. It determines the location of the peak of the bell curve. The mean specifies where the distribution is centered on the x-axis.\n",
    "- If the mean is positive, the distribution is shifted to the right.\n",
    "- If the mean is negative, the distribution is shifted to the left.\n",
    "- If the mean is zero, the distribution is symmetrically centered around the x-axis.\n",
    "\n",
    "2. Standard Deviation (σ): The standard deviation of the normal distribution determines its spread or dispersion. It measures the average amount of variability or deviation from the mean. The standard deviation influences the width of the bell curve.\n",
    "- A smaller standard deviation corresponds to a narrower and taller curve, -indicating less variability and more concentration of values around the mean.\n",
    "- A larger standard deviation corresponds to a wider and flatter curve, indicating more variability and values that are spread out from the mean."
   ]
  },
  {
   "cell_type": "markdown",
   "id": "419e5feb",
   "metadata": {},
   "source": [
    "#### Q4: Explain the importance of Normal Distribution. Give a few real-life examples of Normal Distribution."
   ]
  },
  {
   "cell_type": "markdown",
   "id": "2dca22a3",
   "metadata": {},
   "source": [
    "**Ans:** the Normal distribution is important because of the following reason:\n",
    "- The normal distribution is also termed as a gaussian distribution. It represents the data from the mean position. In the graph form normal distribution appears as a bell curve.\n",
    "- The normal distribution is widely used in financing industries. To examine the price action of the stocks and to account for the returns in the assent class.\n",
    "- The normal distribution is symmetric and has a skewness of zero. The skewness measures the symmetry of a distribution with respect to the normal distribution.\n",
    "- The normal distribution is an important probability distribution in math and statistics because many continuous data in nature and psychology display this bell-shaped curve when compiled and graphed.\n",
    "\n",
    "Real life example of normal distibution are Height and weights of individuals, Modeling IQ scores, Measurement errors, stock market returns, and Test score etc."
   ]
  },
  {
   "cell_type": "markdown",
   "id": "87c4841a",
   "metadata": {},
   "source": [
    "#### Q5: What is Bernaulli Distribution? Give an Example. What is the difference between Bernoulli Distribution and Binomial Distribution?"
   ]
  },
  {
   "cell_type": "markdown",
   "id": "50135e33",
   "metadata": {},
   "source": [
    "**Ans:** It is a discrete probability of random variable which takes the value 1 with probability (p) and 0 with probability (q = 1-p). It has binary outcome.\n",
    "Example, Tossing a coin.\n",
    "\n",
    "In Binomial distrbution the experiment is done multiple times. If the experiment is done only once then it is called bernaulli's trial."
   ]
  },
  {
   "cell_type": "markdown",
   "id": "b55d29e1",
   "metadata": {},
   "source": [
    "#### Q6. Consider a dataset with a mean of 50 and a standard deviation of 10. If we assume that the dataset is normally distributed, what is the probability that a randomly selected observation will be greater than 60? Use the appropriate formula and show your calculations."
   ]
  },
  {
   "cell_type": "code",
   "execution_count": 7,
   "id": "b89ef6e3",
   "metadata": {},
   "outputs": [
    {
     "name": "stdout",
     "output_type": "stream",
     "text": [
      "z_score : 1.0\n"
     ]
    },
    {
     "data": {
      "text/plain": [
       "0.15865525393145707"
      ]
     },
     "execution_count": 7,
     "metadata": {},
     "output_type": "execute_result"
    }
   ],
   "source": [
    "import scipy.stats as stats\n",
    "mean = 50\n",
    "std = 10\n",
    "xi = 60\n",
    "z_score = (xi-mean)/std\n",
    "print(\"z_score :\", z_score)\n",
    "\n",
    "# you can Refer z table as well\n",
    "\n",
    "prob = 1- stats.norm.cdf(z_score)\n",
    "prob"
   ]
  },
  {
   "cell_type": "markdown",
   "id": "b91fb62c",
   "metadata": {},
   "source": [
    "#### Q7: Explain uniform Distribution with an example."
   ]
  },
  {
   "cell_type": "markdown",
   "id": "1fb17ca4",
   "metadata": {},
   "source": [
    "**Ans:** Uniform distribution refers to a type of probability distribution in which all outcomes are equally likely. There are two types of uniform distribution:\n",
    "- Contionous Uniform Distribution\n",
    "- Discrete Uniform Distribution\n",
    "\n",
    "Example: A deck of card"
   ]
  },
  {
   "cell_type": "markdown",
   "id": "3101fe77",
   "metadata": {},
   "source": [
    "#### Q8: What is the z score? State the importance of the z score."
   ]
  },
  {
   "cell_type": "markdown",
   "id": "053efa78",
   "metadata": {},
   "source": [
    "**Ans:** Z-score is a statistical measurement that describes a value's relationship to the mean of a group of values.\n",
    "\n",
    "A z-score is important because it tells where your data lies in the data distribution. For example, if a z-score is 1.5, it is 1.5 standard deviations away from the mean."
   ]
  },
  {
   "cell_type": "markdown",
   "id": "455ffdc5",
   "metadata": {},
   "source": [
    "#### Q9: What is Central Limit Theorem? State the significance of the Central Limit Theorem."
   ]
  },
  {
   "cell_type": "markdown",
   "id": "29d83d1f",
   "metadata": {},
   "source": [
    "**Ans:** The central limit theorem syas that the sampling distribution of the mean will always be normally distributed as long as the sample size is large enough. (Regardless the distribution of population.)\n",
    "\n",
    "The central limit theorem is useful when analyzing large data sets because it allows one to assume that the sampling distribution of the mean will be normally-distributed in most cases. "
   ]
  },
  {
   "cell_type": "markdown",
   "id": "5c4998bc",
   "metadata": {},
   "source": [
    "#### Q10: State the assumptions of the Central Limit Theorem."
   ]
  },
  {
   "cell_type": "markdown",
   "id": "5b8b9af9",
   "metadata": {},
   "source": [
    "**Ans:** The Central Limit Theorem (CLT) makes certain assumptions to hold true. The assumptions of the Central Limit Theorem are as follows:\n",
    "\n",
    "Independence: The random variables in the sample or population should be independent of each other. This means that the outcome of one variable should not affect the outcome of another.\n",
    "\n",
    "Finite Variance: The random variables should have a finite variance. In other words, the spread or variability of the random variables should not be infinite.\n",
    "\n",
    "Identically Distributed: The random variables should be identically distributed, meaning that they should follow the same probability distribution. However, the distribution itself does not need to be the normal distribution.\n",
    "\n",
    "Sample Size: The Central Limit Theorem assumes that the sample size is sufficiently large. While there is no hard and fast rule for determining the exact sample size required, a commonly suggested guideline is that the sample size should be at least 30. However, this guideline can vary depending on the specific distribution and the level of accuracy desired."
   ]
  }
 ],
 "metadata": {
  "kernelspec": {
   "display_name": "Python 3 (ipykernel)",
   "language": "python",
   "name": "python3"
  },
  "language_info": {
   "codemirror_mode": {
    "name": "ipython",
    "version": 3
   },
   "file_extension": ".py",
   "mimetype": "text/x-python",
   "name": "python",
   "nbconvert_exporter": "python",
   "pygments_lexer": "ipython3",
   "version": "3.9.13"
  }
 },
 "nbformat": 4,
 "nbformat_minor": 5
}
