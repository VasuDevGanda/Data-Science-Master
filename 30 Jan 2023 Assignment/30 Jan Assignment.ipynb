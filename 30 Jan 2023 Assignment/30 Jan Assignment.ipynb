{
 "cells": [
  {
   "cell_type": "markdown",
   "id": "2042901d",
   "metadata": {},
   "source": [
    "# Assignment 2"
   ]
  },
  {
   "cell_type": "markdown",
   "id": "d235c553",
   "metadata": {},
   "source": [
    "Q1......"
   ]
  },
  {
   "cell_type": "code",
   "execution_count": 5,
   "id": "2f191a9d",
   "metadata": {},
   "outputs": [
    {
     "name": "stdout",
     "output_type": "stream",
     "text": [
      "Enter your marks : 75\n",
      "Grade : C\n"
     ]
    }
   ],
   "source": [
    "marks = int(input(\"Enter your marks : \"))\n",
    "if marks > 90:\n",
    "    print(\"Grade : A\")\n",
    "elif marks>80 and marks<=90:\n",
    "    print(\"Grade : B\")\n",
    "elif marks>=60 and marks<=80:\n",
    "    print(\"Grade : C\")\n",
    "else:\n",
    "    print(\"Grade : D\")"
   ]
  },
  {
   "cell_type": "markdown",
   "id": "15e10a3d",
   "metadata": {},
   "source": [
    "Q2....."
   ]
  },
  {
   "cell_type": "code",
   "execution_count": 9,
   "id": "e2b37ff1",
   "metadata": {},
   "outputs": [
    {
     "name": "stdout",
     "output_type": "stream",
     "text": [
      "Enter the cost price of the Bike : 12345\n",
      "Raod Tax : 5%\n"
     ]
    }
   ],
   "source": [
    "price = int(input(\"Enter the cost price bof the Bike : \"))\n",
    "if price>100000:\n",
    "    print(\"Raod Tax : 15%\")\n",
    "elif price>50000 and price<=100000:\n",
    "     print(\"Raod Tax : 10%\")\n",
    "else:\n",
    "     print(\"Raod Tax : 5%\")"
   ]
  },
  {
   "cell_type": "markdown",
   "id": "f91a5ed5",
   "metadata": {},
   "source": [
    "Q3...."
   ]
  },
  {
   "cell_type": "code",
   "execution_count": 22,
   "id": "4d67185e",
   "metadata": {},
   "outputs": [
    {
     "name": "stdout",
     "output_type": "stream",
     "text": [
      "Enter the Name of city : AgRa\n",
      "Monument in Agra is Taj Mahal\n"
     ]
    }
   ],
   "source": [
    "city = input(\"Enter the Name of city : \").lower()\n",
    "if city == \"delhi\":\n",
    "    print(\"Monument in Delhi is Red Fort\")\n",
    "elif city == \"agra\":\n",
    "    print(\"Monument in Agra is Taj Mahal\")\n",
    "elif city == \"jaipur\":\n",
    "    print(\"Monument in Jaipur is Jal Mahal\")\n",
    "else:\n",
    "    print(\"Enter the correct city Name\")"
   ]
  },
  {
   "cell_type": "markdown",
   "id": "7049dba8",
   "metadata": {},
   "source": [
    "Q4...."
   ]
  },
  {
   "cell_type": "code",
   "execution_count": 37,
   "id": "2f653df2",
   "metadata": {},
   "outputs": [
    {
     "name": "stdout",
     "output_type": "stream",
     "text": [
      "Enter a number : 100\n",
      "3\n"
     ]
    }
   ],
   "source": [
    "num = int(input(\"Enter a number : \"))\n",
    "count=0\n",
    "while(True):\n",
    "    num = num/3\n",
    "    count+=1\n",
    "    if num<=10:\n",
    "        break\n",
    "print(count)"
   ]
  },
  {
   "cell_type": "markdown",
   "id": "126330c7",
   "metadata": {},
   "source": [
    "Q5..."
   ]
  },
  {
   "cell_type": "code",
   "execution_count": 40,
   "id": "d8fde8ef",
   "metadata": {},
   "outputs": [
    {
     "name": "stdout",
     "output_type": "stream",
     "text": [
      "I am Your friend\n",
      "I am Your friend\n",
      "I am Your friend\n",
      "I am Your friend\n",
      "I am Your friend\n"
     ]
    }
   ],
   "source": [
    "'''\n",
    "Instead of writing a line of code multiple times we use loop.\n",
    "while loop is used when we don't know the number of iteration.\n",
    "'''\n",
    "# Example \n",
    "i =0\n",
    "while (i<5):\n",
    "    print(\"I am Your friend\")\n",
    "    i+=1"
   ]
  },
  {
   "cell_type": "markdown",
   "id": "aa737eba",
   "metadata": {},
   "source": [
    "Q6...."
   ]
  },
  {
   "cell_type": "code",
   "execution_count": 54,
   "id": "fa584c00",
   "metadata": {},
   "outputs": [
    {
     "name": "stdout",
     "output_type": "stream",
     "text": [
      "Enter Number of row : 6\n",
      "\n",
      "*\n",
      "**\n",
      "***\n",
      "****\n",
      "*****\n",
      "******\n"
     ]
    }
   ],
   "source": [
    "# Pattern : 1\n",
    "n = int(input(\"Enter Number of row : \"))\n",
    "i = 0\n",
    "while(i<=n):\n",
    "    j = i\n",
    "    while(j):\n",
    "        print(\"*\", end = \"\")\n",
    "        j -=1\n",
    "    i+=1\n",
    "    print('\\r')"
   ]
  },
  {
   "cell_type": "code",
   "execution_count": 55,
   "id": "949d7129",
   "metadata": {},
   "outputs": [
    {
     "name": "stdout",
     "output_type": "stream",
     "text": [
      "Enter Number of row : 5\n",
      "*****\n",
      "****\n",
      "***\n",
      "**\n",
      "*\n",
      "\n"
     ]
    }
   ],
   "source": [
    "# Pattern : 2\n",
    "n = int(input(\"Enter Number of row : \"))\n",
    "i = n\n",
    "while(i>=0):\n",
    "    j = i\n",
    "    while(j):\n",
    "        print(\"*\", end = \"\")\n",
    "        j -=1\n",
    "    i-=1\n",
    "    print('\\r')"
   ]
  },
  {
   "cell_type": "code",
   "execution_count": 63,
   "id": "c7d3c26e",
   "metadata": {},
   "outputs": [
    {
     "name": "stdout",
     "output_type": "stream",
     "text": [
      "Enter Number of row : 5\n",
      "    *\n",
      "   ***\n",
      "  *****\n",
      " *******\n",
      "*********\n",
      " *******\n",
      "  *****\n",
      "   ***\n",
      "    *\n"
     ]
    }
   ],
   "source": [
    "# Pttern : 3\n",
    "n = int(input(\"Enter Number of row : \"))\n",
    "i = 1\n",
    "while i <= n:\n",
    "    j = 1\n",
    "    while j <= n - i:\n",
    "        print(\" \", end=\"\")\n",
    "        j += 1\n",
    "    k = 1\n",
    "    while k <= (2 * i - 1):\n",
    "        print(\"*\", end=\"\")\n",
    "        k += 1\n",
    "    print()\n",
    "    i += 1\n",
    "\n",
    "i = n - 1\n",
    "while i >= 1:\n",
    "    j = 1\n",
    "    while j <= n - i:\n",
    "        print(\" \", end=\"\")\n",
    "        j += 1\n",
    "    k = 1\n",
    "    while k <= (2 * i - 1):\n",
    "        print(\"*\", end=\"\")\n",
    "        k += 1\n",
    "    print()\n",
    "    i -= 1"
   ]
  },
  {
   "cell_type": "markdown",
   "id": "edeb412f",
   "metadata": {},
   "source": [
    "Q7...."
   ]
  },
  {
   "cell_type": "code",
   "execution_count": 64,
   "id": "e685ebd9",
   "metadata": {},
   "outputs": [
    {
     "name": "stdout",
     "output_type": "stream",
     "text": [
      "10\n",
      "9\n",
      "8\n",
      "7\n",
      "6\n",
      "5\n",
      "4\n",
      "3\n",
      "2\n",
      "1\n"
     ]
    }
   ],
   "source": [
    "num = 10\n",
    "\n",
    "while num >= 1:\n",
    "    print(num)\n",
    "    num -= 1"
   ]
  },
  {
   "cell_type": "markdown",
   "id": "cc281eb4",
   "metadata": {},
   "source": [
    "Q8..."
   ]
  },
  {
   "cell_type": "code",
   "execution_count": 65,
   "id": "9354362a",
   "metadata": {},
   "outputs": [
    {
     "name": "stdout",
     "output_type": "stream",
     "text": [
      "10\n",
      "9\n",
      "8\n",
      "7\n",
      "6\n",
      "5\n",
      "4\n",
      "3\n",
      "2\n",
      "1\n"
     ]
    }
   ],
   "source": [
    "num = 10\n",
    "\n",
    "while num >= 1:\n",
    "    print(num)\n",
    "    num -= 1"
   ]
  }
 ],
 "metadata": {
  "kernelspec": {
   "display_name": "Python 3 (ipykernel)",
   "language": "python",
   "name": "python3"
  },
  "language_info": {
   "codemirror_mode": {
    "name": "ipython",
    "version": 3
   },
   "file_extension": ".py",
   "mimetype": "text/x-python",
   "name": "python",
   "nbconvert_exporter": "python",
   "pygments_lexer": "ipython3",
   "version": "3.9.13"
  }
 },
 "nbformat": 4,
 "nbformat_minor": 5
}
