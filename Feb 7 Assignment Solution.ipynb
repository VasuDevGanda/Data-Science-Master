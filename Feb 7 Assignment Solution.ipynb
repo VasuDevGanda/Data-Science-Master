{
 "cells": [
  {
   "cell_type": "markdown",
   "id": "c6937263",
   "metadata": {},
   "source": [
    "#### Q1. You are writing code for a company. The requirement of the company is that you create a python function that will check whether the password entered by the user is correct or not. The function should take the password as input and return the string “Valid Password” if the entered password follows the below-given password guidelines else it should return “Invalid Password”.\n",
    "\n",
    "Note: \n",
    "1. The Password should contain at least two uppercase letters and at least two lowercase letters.\n",
    "2. The Password should contain at least a number and three special characters.\n",
    "3. The length of the password should be 10 characters long."
   ]
  },
  {
   "cell_type": "code",
   "execution_count": 25,
   "id": "426f2e1f",
   "metadata": {},
   "outputs": [],
   "source": [
    "import re\n",
    "def validate(password):\n",
    "    if (len(password) == 10 and re.search(r'[A-Z]{2,}', password) and re.search(r'[a-z]{2,}', password) and re.search(r'\\d', password) and re.search(r'[!@#$%^&*()_+-=;:\\'\",.<>/?]{3,}', password)) :\n",
    "        return \"Valid Password\"\n",
    "    else:\n",
    "        return \"Invalid Password\"\n"
   ]
  },
  {
   "cell_type": "code",
   "execution_count": 26,
   "id": "c914229b",
   "metadata": {},
   "outputs": [
    {
     "name": "stdout",
     "output_type": "stream",
     "text": [
      "Enter the password:ABCabv1@#$\n"
     ]
    },
    {
     "data": {
      "text/plain": [
       "'Valid Password'"
      ]
     },
     "execution_count": 26,
     "metadata": {},
     "output_type": "execute_result"
    }
   ],
   "source": [
    "password=input(\"Enter the password:\")\n",
    "validate(password)"
   ]
  },
  {
   "cell_type": "markdown",
   "id": "78e68249",
   "metadata": {},
   "source": [
    "#### Q.2 Solve the below-given questions using at least one of the following:\n",
    "1. Lambda function\n",
    "2. Filter function\n",
    "3. Map function\n",
    "4. List Comprehension"
   ]
  },
  {
   "cell_type": "markdown",
   "id": "407664be",
   "metadata": {},
   "source": [
    "##### Check if the string starts with a particular letter."
   ]
  },
  {
   "cell_type": "code",
   "execution_count": 40,
   "id": "326fd944",
   "metadata": {},
   "outputs": [
    {
     "data": {
      "text/plain": [
       "['Vasu', 'Vikas']"
      ]
     },
     "execution_count": 40,
     "metadata": {},
     "output_type": "execute_result"
    }
   ],
   "source": [
    "lst = ['Vasu','Akki', 'Vikas', 'Sohan']\n",
    "ltr = 'v'\n",
    "list(filter(lambda x : x.lower().startswith(ltr), lst))"
   ]
  },
  {
   "cell_type": "markdown",
   "id": "5fd9d671",
   "metadata": {},
   "source": [
    "##### Check if the string is numeric."
   ]
  },
  {
   "cell_type": "code",
   "execution_count": 41,
   "id": "3e16b11c",
   "metadata": {},
   "outputs": [
    {
     "name": "stdout",
     "output_type": "stream",
     "text": [
      "['123', '456']\n"
     ]
    }
   ],
   "source": [
    "string_list = ['123', '456', 'Akki']\n",
    "result = list(filter(lambda x: x.isnumeric(), string_list))\n",
    "print(result)"
   ]
  },
  {
   "cell_type": "markdown",
   "id": "2f250c8f",
   "metadata": {},
   "source": [
    "##### Sort a list of tuples having fruit names and their quantity.* [(\"mango\",99),(\"orange\",80), (\"grapes\", 1000)]"
   ]
  },
  {
   "cell_type": "code",
   "execution_count": 47,
   "id": "05dca90a",
   "metadata": {},
   "outputs": [
    {
     "data": {
      "text/plain": [
       "[('orange', 80), ('mango', 99), ('grapes', 1000)]"
      ]
     },
     "execution_count": 47,
     "metadata": {},
     "output_type": "execute_result"
    }
   ],
   "source": [
    "lst = [(\"mango\",99),(\"orange\",80), (\"grapes\", 1000)]\n",
    "lst.sort(key = lambda x: x[1])\n",
    "lst"
   ]
  },
  {
   "cell_type": "markdown",
   "id": "80cb0dd5",
   "metadata": {},
   "source": [
    "#####  Find the squares of numbers from 1 to 10."
   ]
  },
  {
   "cell_type": "code",
   "execution_count": 49,
   "id": "ddaae77e",
   "metadata": {},
   "outputs": [
    {
     "data": {
      "text/plain": [
       "[1, 4, 9, 16, 25, 36, 49, 64, 81, 100]"
      ]
     },
     "execution_count": 49,
     "metadata": {},
     "output_type": "execute_result"
    }
   ],
   "source": [
    "sq = [x**2 for x in range(1,11)]\n",
    "sq"
   ]
  },
  {
   "cell_type": "code",
   "execution_count": 51,
   "id": "b2a1f5ee",
   "metadata": {},
   "outputs": [
    {
     "data": {
      "text/plain": [
       "[1, 4, 9, 16, 25, 36, 49, 64, 81, 100]"
      ]
     },
     "execution_count": 51,
     "metadata": {},
     "output_type": "execute_result"
    }
   ],
   "source": [
    "sq1 = lambda x : x**2\n",
    "[sq(x) for x in range(1,11)]"
   ]
  },
  {
   "cell_type": "markdown",
   "id": "e3c1f40f",
   "metadata": {},
   "source": [
    "##### Find the cube root of numbers from 1 to 10."
   ]
  },
  {
   "cell_type": "code",
   "execution_count": 54,
   "id": "d2fe0613",
   "metadata": {},
   "outputs": [
    {
     "data": {
      "text/plain": [
       "[1.0,\n",
       " 1.2599210498948732,\n",
       " 1.4422495703074083,\n",
       " 1.5874010519681994,\n",
       " 1.7099759466766968,\n",
       " 1.8171205928321397,\n",
       " 1.912931182772389,\n",
       " 2.0,\n",
       " 2.080083823051904,\n",
       " 2.154434690031884]"
      ]
     },
     "execution_count": 54,
     "metadata": {},
     "output_type": "execute_result"
    }
   ],
   "source": [
    "cube_root = [pow(x,1/3) for x in range(1,11)]\n",
    "cube_root"
   ]
  },
  {
   "cell_type": "markdown",
   "id": "a380d36b",
   "metadata": {},
   "source": [
    "##### Check if a given number is even. "
   ]
  },
  {
   "cell_type": "code",
   "execution_count": 60,
   "id": "9ed98ee0",
   "metadata": {},
   "outputs": [
    {
     "name": "stdout",
     "output_type": "stream",
     "text": [
      "Enter a Number : 6\n"
     ]
    },
    {
     "data": {
      "text/plain": [
       "True"
      ]
     },
     "execution_count": 60,
     "metadata": {},
     "output_type": "execute_result"
    }
   ],
   "source": [
    "num = int(input(\"Enter a Number : \"))\n",
    "result = (lambda x : x%2 == 0)(num)\n",
    "result"
   ]
  },
  {
   "cell_type": "markdown",
   "id": "b8d2d159",
   "metadata": {},
   "source": [
    "##### Filter odd numbers from the given list.* [1,2,3,4,5,6,7,8,9,10] "
   ]
  },
  {
   "cell_type": "code",
   "execution_count": 61,
   "id": "08e60541",
   "metadata": {},
   "outputs": [
    {
     "data": {
      "text/plain": [
       "[1, 3, 5, 7, 9]"
      ]
     },
     "execution_count": 61,
     "metadata": {},
     "output_type": "execute_result"
    }
   ],
   "source": [
    "lst = [1,2,3,4,5,6,7,8,9,10]\n",
    "list(filter(lambda x : x%2 !=0,lst))"
   ]
  },
  {
   "cell_type": "markdown",
   "id": "51c62533",
   "metadata": {},
   "source": [
    "##### Sort a list of integers into positive and negative integers lists.* [1,2,3,4,5,6,-1,-2,-3,-4,-5,0]"
   ]
  },
  {
   "cell_type": "code",
   "execution_count": 66,
   "id": "3582b19c",
   "metadata": {},
   "outputs": [
    {
     "name": "stdout",
     "output_type": "stream",
     "text": [
      "[1, 2, 3, 4, 5, 6]\n",
      "[-1, -2, -3, -4, -5]\n"
     ]
    }
   ],
   "source": [
    "lst = [1,2,3,4,5,6,-1,-2,-3,-4,-5,0]\n",
    "pos = list(filter(lambda x : x>0,lst))\n",
    "neg = list(filter(lambda x : x<0,lst))\n",
    "print(pos)\n",
    "print(neg)"
   ]
  }
 ],
 "metadata": {
  "kernelspec": {
   "display_name": "Python 3 (ipykernel)",
   "language": "python",
   "name": "python3"
  },
  "language_info": {
   "codemirror_mode": {
    "name": "ipython",
    "version": 3
   },
   "file_extension": ".py",
   "mimetype": "text/x-python",
   "name": "python",
   "nbconvert_exporter": "python",
   "pygments_lexer": "ipython3",
   "version": "3.9.13"
  }
 },
 "nbformat": 4,
 "nbformat_minor": 5
}
