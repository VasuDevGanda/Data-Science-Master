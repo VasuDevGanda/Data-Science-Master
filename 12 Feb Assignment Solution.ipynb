{
 "cells": [
  {
   "cell_type": "markdown",
   "id": "c247c2e9",
   "metadata": {},
   "source": [
    "#### Q1. What is an exception in python? Write the difference between Exceptions and syntax error."
   ]
  },
  {
   "cell_type": "markdown",
   "id": "ca65d0d9",
   "metadata": {},
   "source": [
    "###### Ans\n",
    "* **Exception** : An exception is an event, which occurs during the execution of a program that disrupts the normal flow of the program's instructions.\n",
    "\n",
    "* A syntax error occurs when the structure of a program does not conform to the rules of the programming language. But Exception is situation in which code's syntax is correct but semantic is not. Like divide any nymber by zeor it will give zero division error"
   ]
  },
  {
   "cell_type": "markdown",
   "id": "469985ae",
   "metadata": {},
   "source": [
    "#### Q2.  What happens when an exception is not handled? Explain with an example."
   ]
  },
  {
   "cell_type": "markdown",
   "id": "073c0cd0",
   "metadata": {},
   "source": [
    "If an exception occurs during execution of the try clause, the exception may be handled by an except clause. If the exception is not handled by an except clause, the exception is re-raised after the finally clause has been executed."
   ]
  },
  {
   "cell_type": "code",
   "execution_count": 2,
   "id": "4a3ffa9d",
   "metadata": {},
   "outputs": [
    {
     "name": "stdout",
     "output_type": "stream",
     "text": [
      "executing finally clause\n"
     ]
    },
    {
     "ename": "TypeError",
     "evalue": "unsupported operand type(s) for /: 'str' and 'int'",
     "output_type": "error",
     "traceback": [
      "\u001b[1;31m---------------------------------------------------------------------------\u001b[0m",
      "\u001b[1;31mTypeError\u001b[0m                                 Traceback (most recent call last)",
      "\u001b[1;32m~\\AppData\\Local\\Temp\\ipykernel_14880\\1608745111.py\u001b[0m in \u001b[0;36m<module>\u001b[1;34m\u001b[0m\n\u001b[0;32m      2\u001b[0m \u001b[0my\u001b[0m \u001b[1;33m=\u001b[0m \u001b[1;36m3\u001b[0m\u001b[1;33m\u001b[0m\u001b[1;33m\u001b[0m\u001b[0m\n\u001b[0;32m      3\u001b[0m \u001b[1;32mtry\u001b[0m\u001b[1;33m:\u001b[0m\u001b[1;33m\u001b[0m\u001b[1;33m\u001b[0m\u001b[0m\n\u001b[1;32m----> 4\u001b[1;33m     \u001b[0mresult\u001b[0m \u001b[1;33m=\u001b[0m \u001b[0mx\u001b[0m \u001b[1;33m/\u001b[0m \u001b[0my\u001b[0m\u001b[1;33m\u001b[0m\u001b[1;33m\u001b[0m\u001b[0m\n\u001b[0m\u001b[0;32m      5\u001b[0m \u001b[1;32mexcept\u001b[0m \u001b[0mZeroDivisionError\u001b[0m\u001b[1;33m:\u001b[0m\u001b[1;33m\u001b[0m\u001b[1;33m\u001b[0m\u001b[0m\n\u001b[0;32m      6\u001b[0m     \u001b[0mprint\u001b[0m\u001b[1;33m(\u001b[0m\u001b[1;34m\"division by zero!\"\u001b[0m\u001b[1;33m)\u001b[0m\u001b[1;33m\u001b[0m\u001b[1;33m\u001b[0m\u001b[0m\n",
      "\u001b[1;31mTypeError\u001b[0m: unsupported operand type(s) for /: 'str' and 'int'"
     ]
    }
   ],
   "source": [
    "x = '5'\n",
    "y = 3\n",
    "try:\n",
    "    result = x / y\n",
    "except ZeroDivisionError:\n",
    "    print(\"division by zero!\")\n",
    "else:\n",
    "    print(\"result is\", result)\n",
    "finally:\n",
    "    print(\"executing finally clause\")"
   ]
  },
  {
   "cell_type": "markdown",
   "id": "c77d9737",
   "metadata": {},
   "source": [
    "#### Q3. Which python statement is used to catch and handle exceptions? Explain with an exapmle. "
   ]
  },
  {
   "cell_type": "markdown",
   "id": "94c47791",
   "metadata": {},
   "source": [
    "The try and except block in Python is used to catch and handle exceptions "
   ]
  },
  {
   "cell_type": "code",
   "execution_count": 3,
   "id": "be49b0b6",
   "metadata": {},
   "outputs": [
    {
     "name": "stdout",
     "output_type": "stream",
     "text": [
      "[Errno 2] No such file or directory: 'vasu.txt'\n"
     ]
    }
   ],
   "source": [
    "try:\n",
    "    with open(\"vasu.txt\") as f:\n",
    "        f.read()\n",
    "except FileNotFoundError as e:\n",
    "    print(e)"
   ]
  },
  {
   "cell_type": "markdown",
   "id": "45a140be",
   "metadata": {},
   "source": [
    "####  Q4. Explain with an example:\n",
    "* **a. try and else**\n",
    "* **b. finally**\n",
    "* **c. raise**"
   ]
  },
  {
   "cell_type": "markdown",
   "id": "de3dfec4",
   "metadata": {},
   "source": [
    "##### Ans:\n",
    "**A. try and else** "
   ]
  },
  {
   "cell_type": "code",
   "execution_count": 7,
   "id": "220a0193",
   "metadata": {},
   "outputs": [
    {
     "name": "stdout",
     "output_type": "stream",
     "text": [
      "This block will excecute once try block is excute without an exception\n"
     ]
    }
   ],
   "source": [
    "try:\n",
    "    f = open(\"text.txt\",\"w\")\n",
    "    f.write(\"This is my file\")\n",
    "except Exception as e:\n",
    "    print(\"Ther is some error in code\",e)\n",
    "    \n",
    "else:\n",
    "    f.close()\n",
    "    print(\"This block will excecute once try block is excute without an exception\")"
   ]
  },
  {
   "cell_type": "markdown",
   "id": "5b70eeca",
   "metadata": {},
   "source": [
    "**B. finally** "
   ]
  },
  {
   "cell_type": "code",
   "execution_count": 8,
   "id": "d8b76eee",
   "metadata": {},
   "outputs": [
    {
     "name": "stdout",
     "output_type": "stream",
     "text": [
      "This will always execute\n"
     ]
    },
    {
     "ename": "FileNotFoundError",
     "evalue": "[Errno 2] No such file or directory: 'text1.txt'",
     "output_type": "error",
     "traceback": [
      "\u001b[1;31m---------------------------------------------------------------------------\u001b[0m",
      "\u001b[1;31mFileNotFoundError\u001b[0m                         Traceback (most recent call last)",
      "\u001b[1;32m~\\AppData\\Local\\Temp\\ipykernel_14880\\621358455.py\u001b[0m in \u001b[0;36m<module>\u001b[1;34m\u001b[0m\n\u001b[0;32m      1\u001b[0m \u001b[1;32mtry\u001b[0m\u001b[1;33m:\u001b[0m\u001b[1;33m\u001b[0m\u001b[1;33m\u001b[0m\u001b[0m\n\u001b[1;32m----> 2\u001b[1;33m     \u001b[0mf\u001b[0m \u001b[1;33m=\u001b[0m \u001b[0mopen\u001b[0m\u001b[1;33m(\u001b[0m\u001b[1;34m\"text1.txt\"\u001b[0m\u001b[1;33m,\u001b[0m\u001b[1;34m\"r\"\u001b[0m\u001b[1;33m)\u001b[0m\u001b[1;33m\u001b[0m\u001b[1;33m\u001b[0m\u001b[0m\n\u001b[0m\u001b[0;32m      3\u001b[0m     \u001b[0mf\u001b[0m\u001b[1;33m.\u001b[0m\u001b[0mwrite\u001b[0m\u001b[1;33m(\u001b[0m\u001b[1;34m\"This is my file\"\u001b[0m\u001b[1;33m)\u001b[0m\u001b[1;33m\u001b[0m\u001b[1;33m\u001b[0m\u001b[0m\n\u001b[0;32m      4\u001b[0m \u001b[1;33m\u001b[0m\u001b[0m\n\u001b[0;32m      5\u001b[0m \u001b[1;32mfinally\u001b[0m\u001b[1;33m:\u001b[0m\u001b[1;33m\u001b[0m\u001b[1;33m\u001b[0m\u001b[0m\n",
      "\u001b[1;31mFileNotFoundError\u001b[0m: [Errno 2] No such file or directory: 'text1.txt'"
     ]
    }
   ],
   "source": [
    "try:\n",
    "    f = open(\"text1.txt\",\"r\")\n",
    "    f.write(\"This is my file\")\n",
    "\n",
    "finally:\n",
    "    print(\"This will always execute\")"
   ]
  },
  {
   "cell_type": "markdown",
   "id": "4a23d482",
   "metadata": {},
   "source": [
    "**C. raise**"
   ]
  },
  {
   "cell_type": "code",
   "execution_count": 10,
   "id": "5b91dac7",
   "metadata": {},
   "outputs": [],
   "source": [
    "class validateage(Exception):\n",
    "    def __init__(self,msg):\n",
    "        self.msg = msg"
   ]
  },
  {
   "cell_type": "code",
   "execution_count": 11,
   "id": "8fbdf1fd",
   "metadata": {},
   "outputs": [],
   "source": [
    "def validate_age(age):\n",
    "    if age<0:\n",
    "        raise validateage(\"Age should not be less than zero\")\n",
    "    elif age>200:\n",
    "        raise validateage(\"Age is too high\")\n",
    "    else:\n",
    "        print(\"Age is valid\")"
   ]
  },
  {
   "cell_type": "code",
   "execution_count": 12,
   "id": "8e900978",
   "metadata": {},
   "outputs": [
    {
     "name": "stdout",
     "output_type": "stream",
     "text": [
      "Enter your age : -25\n",
      "Age should not be less than zero\n"
     ]
    }
   ],
   "source": [
    "try:\n",
    "    age = int(input(\"Enter your age : \"))\n",
    "    validate_age(age)\n",
    "    \n",
    "except validateage as e:\n",
    "    print(e)"
   ]
  },
  {
   "cell_type": "markdown",
   "id": "a8192a0b",
   "metadata": {},
   "source": [
    "#### Q5. what are custom exception in python?  Why do we need Custom Exceptions? Explain with an example."
   ]
  },
  {
   "cell_type": "markdown",
   "id": "ed9415e5",
   "metadata": {},
   "source": [
    "* Sometimes we must enforce constraints on the values that specific program variables can take or save the program from running into an undesired state. In such situations, Python allows programmers to create User-defined Exceptions. To create a User-defined Exception, we need to create a class directly or indirectly derived from the built-in Exception class.\n",
    "* We need custom exceptions because it provides us the flexibility to add attributes and methods that are not part of a standard python exception"
   ]
  },
  {
   "cell_type": "code",
   "execution_count": 17,
   "id": "6409f4d6",
   "metadata": {},
   "outputs": [
    {
     "name": "stdout",
     "output_type": "stream",
     "text": [
      "Enter your age: 17\n",
      "Exception occurred: Invalid Age\n"
     ]
    }
   ],
   "source": [
    "class InvalidAgeException(Exception):\n",
    "    \"Raised when the input value is less than 18\"\n",
    "    pass\n",
    "\n",
    "number = 18\n",
    "\n",
    "try:\n",
    "    input_num = int(input(\"Enter your age: \"))\n",
    "    if input_num < number:\n",
    "        raise InvalidAgeException\n",
    "    else:\n",
    "        print(\"Eligible to Vote\")\n",
    "        \n",
    "except InvalidAgeException:\n",
    "    print(\"Exception occurred: Invalid Age\")"
   ]
  },
  {
   "cell_type": "markdown",
   "id": "8c090d18",
   "metadata": {},
   "source": [
    "#### Q6. Create a custom exception class. use this class to handle an exception. "
   ]
  },
  {
   "cell_type": "code",
   "execution_count": 21,
   "id": "579feca6",
   "metadata": {},
   "outputs": [
    {
     "name": "stdout",
     "output_type": "stream",
     "text": [
      "Enter your marks : 45\n",
      "Fail\n"
     ]
    }
   ],
   "source": [
    "class marks_to_pass(Exception):\n",
    "    pass\n",
    "\n",
    "passing_marks = 50\n",
    "\n",
    "try:\n",
    "    marks = int(input(\"Enter your marks : \"))\n",
    "    if marks < passing_marks:\n",
    "        raise marks_to_pass\n",
    "    else:\n",
    "        print(\"pass\")\n",
    "except marks_to_pass:\n",
    "    print(\"Fail\")"
   ]
  },
  {
   "cell_type": "code",
   "execution_count": null,
   "id": "744fd4f2",
   "metadata": {},
   "outputs": [],
   "source": []
  }
 ],
 "metadata": {
  "kernelspec": {
   "display_name": "Python 3 (ipykernel)",
   "language": "python",
   "name": "python3"
  },
  "language_info": {
   "codemirror_mode": {
    "name": "ipython",
    "version": 3
   },
   "file_extension": ".py",
   "mimetype": "text/x-python",
   "name": "python",
   "nbconvert_exporter": "python",
   "pygments_lexer": "ipython3",
   "version": "3.9.13"
  }
 },
 "nbformat": 4,
 "nbformat_minor": 5
}
