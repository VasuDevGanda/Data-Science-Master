{
 "cells": [
  {
   "cell_type": "markdown",
   "id": "612b8100",
   "metadata": {},
   "source": [
    "## Assignment: Feature Engineering-4"
   ]
  },
  {
   "cell_type": "markdown",
   "id": "180c737e",
   "metadata": {},
   "source": [
    "### Q1. What is data encoding? How is it useful in data science?"
   ]
  },
  {
   "cell_type": "markdown",
   "id": "975de88c",
   "metadata": {},
   "source": [
    "**Ans:** Data encoding involves converting a sequence of text characters into binary code.\n",
    "\n",
    "Computer doesnot understand the human readable text, it operates on binary number so in order to process the data we need to first convert the text data into numerical data and it can be only achieved by Data encoding."
   ]
  },
  {
   "cell_type": "markdown",
   "id": "60ef0cc5",
   "metadata": {},
   "source": [
    "### Q2. What is nominal encoding? Provide an example of how you would use it in a real-world scenario."
   ]
  },
  {
   "cell_type": "markdown",
   "id": "c628ac47",
   "metadata": {},
   "source": [
    "**Ans:**\n",
    "One hot encoding, also known as nominal encoding, is a technique used to represent categorical data as numerical data, which is more suitable for machine learning algorithms. In this technique, each category is represented as a binary vector where each bit corresponds to a unique category. For example, if we have a categorical variable \"color\" with three possible values (red, green, blue), we can represent it using one hot encoding as follows:\n",
    "\n",
    "1. Red: [1, 0, 0]\n",
    "2. Green: [0, 1, 0]\n",
    "3. Blue: [0, 0, 1]"
   ]
  },
  {
   "cell_type": "code",
   "execution_count": 2,
   "id": "d14e2cb4",
   "metadata": {},
   "outputs": [
    {
     "data": {
      "text/plain": [
       "array([[0., 0., 1.],\n",
       "       [1., 0., 0.],\n",
       "       [0., 1., 0.],\n",
       "       [0., 1., 0.],\n",
       "       [0., 0., 1.],\n",
       "       [1., 0., 0.]])"
      ]
     },
     "execution_count": 2,
     "metadata": {},
     "output_type": "execute_result"
    }
   ],
   "source": [
    "import pandas as pd\n",
    "from sklearn.preprocessing import OneHotEncoder\n",
    "\n",
    "## Create a simple dataframe \n",
    "df = pd.DataFrame({\n",
    "    'color': ['red', 'blue', 'green', 'green', 'red', 'blue']\n",
    "})\n",
    "\n",
    "##create an instance of Onehotencoder\n",
    "encoder=OneHotEncoder()\n",
    "\n",
    "## perform fit and transform\n",
    "encoder.fit_transform(df[['color']]).toarray()"
   ]
  },
  {
   "cell_type": "markdown",
   "id": "d9cb5b70",
   "metadata": {},
   "source": [
    "### Q3. In what situations is nominal encoding preferred over one-hot encoding? Provide a practical example."
   ]
  },
  {
   "cell_type": "markdown",
   "id": "a28ad7c0",
   "metadata": {},
   "source": [
    "NOTE: Question is incorrect"
   ]
  },
  {
   "cell_type": "markdown",
   "id": "774c16d8",
   "metadata": {},
   "source": [
    "### Q4. Suppose you have a dataset containing categorical data with 5 unique values. Which encoding technique would you use to transform this data into a format suitable for machine learning algorithms? Explain why you made this choice."
   ]
  },
  {
   "cell_type": "markdown",
   "id": "6ecd34ab",
   "metadata": {},
   "source": [
    "**Ans:** \n",
    "f I have a dataset containing categorical data with 5 unique values, I can use either ordinal encoding or one-hot encoding to transform this data into a format suitable for machine learning algorithms.\n",
    "\n",
    "If the categorical variable has a natural order or ranking, then ordinal encoding can be used. If the categorical variable has no natural order or ranking, then one-hot encoding can be used.\n",
    "\n",
    "In general, one-hot encoding is preferred over ordinal encoding because it does not assume any ordinal relationship between the categories and can be used for categorical variables with any number of unique values. However, one-hot encoding can lead to the curse of dimensionality if the number of unique values is very large.\n",
    "\n",
    "Ordinal encoding is preferred when the number of unique values is large and one-hot encoding would lead to the curse of dimensionality."
   ]
  },
  {
   "cell_type": "markdown",
   "id": "0c126267",
   "metadata": {},
   "source": [
    "### Q5. In a machine learning project, you have a dataset with 1000 rows and 5 columns. Two of the columns are categorical, and the remaining three columns are numerical. If you were to use nominal encoding to transform the categorical data, how many new columns would be created? Show your calculations."
   ]
  },
  {
   "cell_type": "markdown",
   "id": "fe1b0e7a",
   "metadata": {},
   "source": [
    "**Ans:** f I want to use nominal encoding to transform the categorical data, I would create a new column for each unique value in the categorical columns.\n",
    "\n",
    "Let’s assume that the first categorical column has 12 unique values and the second categorical column has 5 unique values. Then, nominal encoding/one-hot encoding would create 12 + 5 = 17 new columns.\n",
    "\n",
    "In general, if the first categorical column has n unique values and the second categorical column has m unique values, then nominal encoding would create n + m new columns."
   ]
  },
  {
   "cell_type": "markdown",
   "id": "94cb141f",
   "metadata": {},
   "source": [
    "### Q6. You are working with a dataset containing information about different types of animals, including their species, habitat, and diet. Which encoding technique would you use to transform the categorical data into a format suitable for machine learning algorithms? Justify your answer."
   ]
  },
  {
   "cell_type": "markdown",
   "id": "2bab4fc8",
   "metadata": {},
   "source": [
    "**Ans:** It is observed that variables species , habitat and diet are NOMINAL features with no natural order or ranking.\n",
    "If the categorical variable has no natural order or ranking, then one-hot encoding can be used.\n",
    "Hence One-Hot Encoding would be preffered in above case."
   ]
  },
  {
   "cell_type": "markdown",
   "id": "4546ba2e",
   "metadata": {},
   "source": [
    "### Q7.You are working on a project that involves predicting customer churn for a telecommunications company. You have a dataset with 5 features, including the customer's gender, age, contract type, monthly charges, and tenure. Which encoding technique(s) would you use to transform the categorical data into numerical data? Provide a step-by-step explanation of how you would implement the encoding."
   ]
  },
  {
   "cell_type": "markdown",
   "id": "0a8e8f24",
   "metadata": {},
   "source": [
    "**Ans:** To transform the categorical data in the customer churn dataset into numerical data, you can use either ordinal encoding or one-hot encoding. If the categorical variable has a natural order or ranking, then ordinal encoding can be used. For example, if the dataset contains information about the contract type of the customers, such as “month-to-month”, “one year”, and “two year”, then ordinal encoding can be used to encode this information. If the categorical variable has no natural order or ranking, then one-hot encoding can be used. For example, if the dataset contains information about the gender of the customers, such as “male” and “female”, then one-hot encoding can be used to encode this information. Here are the steps to implement this encoding: Identify the categorical variables in the dataset. In this case, the categorical variables are the customer’s gender and contract type.\n",
    "\n",
    "Seperate Nominal and Ordinal Variables. In this case Gender is an Nominal variable, while contract type is ordinal variable.\n",
    "\n",
    "Apply One Hot Encoding to Nominal Variable in this case Gender Variable.\n",
    "\n",
    "Apply Ordinal Encoding to Ordinal Variable in this case contract type variable.\n",
    "\n",
    "Scale Numerical data using StandardScaler\n",
    "\n",
    "Combine all 3 encoding into single dataframe\n",
    "\n",
    "Data is now ready for machine learning model\n",
    "\n",
    "Creating an example dataset for above and providing how to perform above in python."
   ]
  },
  {
   "cell_type": "code",
   "execution_count": 3,
   "id": "9e7ca532",
   "metadata": {},
   "outputs": [
    {
     "data": {
      "text/html": [
       "<div>\n",
       "<style scoped>\n",
       "    .dataframe tbody tr th:only-of-type {\n",
       "        vertical-align: middle;\n",
       "    }\n",
       "\n",
       "    .dataframe tbody tr th {\n",
       "        vertical-align: top;\n",
       "    }\n",
       "\n",
       "    .dataframe thead th {\n",
       "        text-align: right;\n",
       "    }\n",
       "</style>\n",
       "<table border=\"1\" class=\"dataframe\">\n",
       "  <thead>\n",
       "    <tr style=\"text-align: right;\">\n",
       "      <th></th>\n",
       "      <th>gender</th>\n",
       "      <th>age</th>\n",
       "      <th>contract</th>\n",
       "      <th>monthly_charges</th>\n",
       "      <th>tenure</th>\n",
       "      <th>churn</th>\n",
       "    </tr>\n",
       "  </thead>\n",
       "  <tbody>\n",
       "    <tr>\n",
       "      <th>0</th>\n",
       "      <td>Female</td>\n",
       "      <td>34</td>\n",
       "      <td>yearly</td>\n",
       "      <td>1042.202157</td>\n",
       "      <td>25</td>\n",
       "      <td>1</td>\n",
       "    </tr>\n",
       "    <tr>\n",
       "      <th>1</th>\n",
       "      <td>Female</td>\n",
       "      <td>36</td>\n",
       "      <td>half yearly</td>\n",
       "      <td>966.337735</td>\n",
       "      <td>12</td>\n",
       "      <td>1</td>\n",
       "    </tr>\n",
       "    <tr>\n",
       "      <th>2</th>\n",
       "      <td>Female</td>\n",
       "      <td>30</td>\n",
       "      <td>yearly</td>\n",
       "      <td>1165.040177</td>\n",
       "      <td>16</td>\n",
       "      <td>0</td>\n",
       "    </tr>\n",
       "    <tr>\n",
       "      <th>3</th>\n",
       "      <td>Female</td>\n",
       "      <td>44</td>\n",
       "      <td>quarterly</td>\n",
       "      <td>1002.266319</td>\n",
       "      <td>35</td>\n",
       "      <td>0</td>\n",
       "    </tr>\n",
       "    <tr>\n",
       "      <th>4</th>\n",
       "      <td>Male</td>\n",
       "      <td>53</td>\n",
       "      <td>half yearly</td>\n",
       "      <td>1043.851952</td>\n",
       "      <td>16</td>\n",
       "      <td>1</td>\n",
       "    </tr>\n",
       "  </tbody>\n",
       "</table>\n",
       "</div>"
      ],
      "text/plain": [
       "   gender  age     contract  monthly_charges  tenure  churn\n",
       "0  Female   34       yearly      1042.202157      25      1\n",
       "1  Female   36  half yearly       966.337735      12      1\n",
       "2  Female   30       yearly      1165.040177      16      0\n",
       "3  Female   44    quarterly      1002.266319      35      0\n",
       "4    Male   53  half yearly      1043.851952      16      1"
      ]
     },
     "execution_count": 3,
     "metadata": {},
     "output_type": "execute_result"
    }
   ],
   "source": [
    "# Generating Synthetic Dataset for above variables\n",
    "import numpy as np\n",
    "import pandas as pd\n",
    "\n",
    "# Setting random seed \n",
    "np.random.seed(543)\n",
    "n = 1000 # dataset size\n",
    "gender = np.random.choice(['Male','Female'],size=n)\n",
    "age = np.random.randint(low=25, high=65, size=n)\n",
    "contract = np.random.choice(['monthly','quarterly','half yearly','yearly'], size=n)\n",
    "monthly_charges = np.random.normal(loc=1000, scale=100,size=n)\n",
    "tenure = np.random.randint(low=12, high=36, size=n)\n",
    "churn = np.random.choice([1,0], p=[0.2,0.8], size=n)\n",
    "\n",
    "# Creating dictionary\n",
    "dct = {\n",
    "    'gender':gender,\n",
    "    'age':age,\n",
    "    'contract':contract,\n",
    "    'monthly_charges':monthly_charges,\n",
    "    'tenure':tenure,\n",
    "    'churn':churn\n",
    "}\n",
    "\n",
    "# Creating Dataframe\n",
    "df = pd.DataFrame(dct)\n",
    "df.head()"
   ]
  },
  {
   "cell_type": "code",
   "execution_count": 4,
   "id": "d5b1ca84",
   "metadata": {},
   "outputs": [],
   "source": [
    "# Seperating X and Y\n",
    "X = df.drop(labels=['churn'],axis=1)\n",
    "Y = df[['churn']]"
   ]
  },
  {
   "cell_type": "code",
   "execution_count": null,
   "id": "34c04758",
   "metadata": {},
   "outputs": [],
   "source": []
  }
 ],
 "metadata": {
  "kernelspec": {
   "display_name": "Python 3 (ipykernel)",
   "language": "python",
   "name": "python3"
  },
  "language_info": {
   "codemirror_mode": {
    "name": "ipython",
    "version": 3
   },
   "file_extension": ".py",
   "mimetype": "text/x-python",
   "name": "python",
   "nbconvert_exporter": "python",
   "pygments_lexer": "ipython3",
   "version": "3.9.13"
  }
 },
 "nbformat": 4,
 "nbformat_minor": 5
}
