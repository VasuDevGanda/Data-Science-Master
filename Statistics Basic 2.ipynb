{
 "cells": [
  {
   "cell_type": "markdown",
   "id": "580e7703",
   "metadata": {},
   "source": [
    "## Assignment: Statistics Basic 2"
   ]
  },
  {
   "cell_type": "markdown",
   "id": "e87a6447",
   "metadata": {},
   "source": [
    "#### Q1. What are the three measures of central tendency?"
   ]
  },
  {
   "cell_type": "markdown",
   "id": "e2eb3e07",
   "metadata": {},
   "source": [
    "**Ans:** Mean, Median and Mode."
   ]
  },
  {
   "cell_type": "markdown",
   "id": "219ae48f",
   "metadata": {},
   "source": [
    "#### Q2. What is the difference between the mean, median, and mode? How are they used to measure the central tendency of a dataset?"
   ]
  },
  {
   "cell_type": "markdown",
   "id": "f5f79575",
   "metadata": {},
   "source": [
    "**Ans:** Mean gives the average of the data where as mode gives the data which has maximum frequency in data set and meadian gives the mid value of dataset.\n",
    "These measures help describe the central tendency of a dataset and provide different insights depending on the type of data and distribution."
   ]
  },
  {
   "cell_type": "markdown",
   "id": "1462a0ac",
   "metadata": {},
   "source": [
    "#### Q3. Measure the three measures of central tendency for the given height data:\n",
    "[178,177,176,177,178.2,178,175,179,180,175,178.9,176.2,177,172.5,178,176.5]"
   ]
  },
  {
   "cell_type": "code",
   "execution_count": 7,
   "id": "44e79265",
   "metadata": {},
   "outputs": [
    {
     "name": "stdout",
     "output_type": "stream",
     "text": [
      "Mean:  177.01875\n",
      "Median:  177.0\n",
      "ModeResult(mode=array([177.]), count=array([3]))\n"
     ]
    },
    {
     "name": "stderr",
     "output_type": "stream",
     "text": [
      "C:\\Users\\Vasu Dev\\AppData\\Local\\Temp\\ipykernel_16440\\3519519219.py:7: FutureWarning: Unlike other reduction functions (e.g. `skew`, `kurtosis`), the default behavior of `mode` typically preserves the axis it acts along. In SciPy 1.11.0, this behavior will change: the default value of `keepdims` will become False, the `axis` over which the statistic is taken will be eliminated, and the value None will no longer be accepted. Set `keepdims` to True or False to avoid this warning.\n",
      "  print(stats.mode(data))\n"
     ]
    }
   ],
   "source": [
    "import numpy as np\n",
    "data = [178,177,176,177,178.2,178,175,179,180,175,178.9,176.2,177,172.5,178,176.5]\n",
    "print(\"Mean: \",np.mean(data))\n",
    "print(\"Median: \",np.median(data))\n",
    "\n",
    "from scipy import stats\n",
    "print(stats.mode(data))"
   ]
  },
  {
   "cell_type": "markdown",
   "id": "caef6018",
   "metadata": {},
   "source": [
    "#### Q5. How are measures of dispersion such as range, variance, and standard deviation used to describe the spread of a dataset? Provide an example."
   ]
  },
  {
   "cell_type": "markdown",
   "id": "925e90ea",
   "metadata": {},
   "source": [
    "**Ans:** Measures of dispersion, such as range, variance, and standard deviation, are used to describe the spread or variability of a dataset. Here's how each measure is used:\n",
    "\n",
    "1. Range: The range is the simplest measure of dispersion and represents the difference between the maximum and minimum values in a dataset. It provides a rough estimate of the spread, but it is sensitive to outliers and does not consider the distribution of the data.\n",
    "\n",
    "\n",
    "2. Variance: The variance measures the average squared deviation from the mean. It provides a more comprehensive measure of dispersion by considering how far each data point deviates from the mean. The variance is calculated by taking the sum of squared differences between each value and the mean, divided by the total number of values.\n",
    "\n",
    "\n",
    "3. Standard Deviation: The standard deviation is the square root of the variance. It provides a measure of dispersion that is in the same units as the original data, making it more easily interpretable. A higher standard deviation indicates greater variability in the dataset."
   ]
  },
  {
   "cell_type": "markdown",
   "id": "94880517",
   "metadata": {},
   "source": [
    "#### Q6. What is a Venn diagram?"
   ]
  },
  {
   "cell_type": "markdown",
   "id": "12b1932d",
   "metadata": {},
   "source": [
    "**Ans:** A Venn diagram illustrates the relationships between two or more data sets. Venn diagrams are especially useful for highlighting similarities and differences and are commonly used to compare and contrast the characteristics of different data sets. In a Venn diagram, circles are used to represent each data set."
   ]
  },
  {
   "cell_type": "markdown",
   "id": "a794e52c",
   "metadata": {},
   "source": [
    "#### Q7. For the two given sets A = (2,3,4,5,6,7) & B = (0,2,6,8,10). Find:\n",
    "(i) A ∩ B\n",
    "(ii) A ⋃ B"
   ]
  },
  {
   "cell_type": "code",
   "execution_count": 9,
   "id": "a0ec842f",
   "metadata": {},
   "outputs": [
    {
     "name": "stdout",
     "output_type": "stream",
     "text": [
      " A ∩ B :  {2, 6}\n",
      "A ⋃ B :  {0, 2, 3, 4, 5, 6, 7, 8, 10}\n"
     ]
    }
   ],
   "source": [
    "A = {2,3,4,5,6,7} \n",
    "B = {0,2,6,8,10}\n",
    "\n",
    "print(\" A ∩ B : \", A&B)\n",
    "print(\"A ⋃ B : \", A|B)"
   ]
  },
  {
   "cell_type": "markdown",
   "id": "72025f09",
   "metadata": {},
   "source": [
    "#### Q8. What do you understand about skewness in data?"
   ]
  },
  {
   "cell_type": "markdown",
   "id": "c725b34a",
   "metadata": {},
   "source": [
    "**Ans:** Skewness is a measure of the asymmetry of a distribution. "
   ]
  },
  {
   "cell_type": "markdown",
   "id": "cac288c3",
   "metadata": {},
   "source": [
    "#### Q9. If a data is right skewed then what will be the position of median with respect to mean?"
   ]
  },
  {
   "cell_type": "markdown",
   "id": "3cddf0a8",
   "metadata": {},
   "source": [
    "**Ans:** In right skewwd curve mean > Median. It means median lies in the left of the mean."
   ]
  },
  {
   "cell_type": "markdown",
   "id": "071710b7",
   "metadata": {},
   "source": [
    "#### Q10. Explain the difference between covariance and correlation. How are these measures used in statistical analysis?"
   ]
  },
  {
   "cell_type": "markdown",
   "id": "291f364f",
   "metadata": {},
   "source": [
    "**Ans:** Covariance is an indicator of the extent to which 2 random variables are dependent on each other. A higher number denotes higher dependency. Correlation is a statistical measure that indicates how strongly two variables are related. The value of covariance lies in the range of -∞ and +∞.\n",
    "Covariance and correlation are two terms that are opposed and are both used in statistics and regression analysis. Covariance shows you how the two variables differ, whereas correlation shows you how the two variables are related."
   ]
  },
  {
   "cell_type": "markdown",
   "id": "729b7445",
   "metadata": {},
   "source": [
    "#### Q11. What is the formula for calculating the sample mean? Provide an example calculation for a dataset."
   ]
  },
  {
   "cell_type": "markdown",
   "id": "ebc93b0a",
   "metadata": {},
   "source": [
    "The formula for calculating the sample mean is:\n",
    "\n",
    "Sample Mean = (Sum of all values in the dataset) / (Total number of values in the dataset)\n",
    "\n",
    "Here's an example calculation:\n",
    "\n",
    "Consider the following dataset of exam scores: 80, 85, 90, 75, 95\n",
    "\n",
    "Step 1: Add up all the values in the dataset: 80 + 85 + 90 + 75 + 95 = 425\n",
    "\n",
    "Step 2: Count the total number of values in the dataset: 5\n",
    "\n",
    "Step 3: Divide the sum by the total number of values to calculate the sample mean: 425 / 5 = 85\n",
    "\n",
    "Therefore, the sample mean of the dataset is 85."
   ]
  },
  {
   "cell_type": "code",
   "execution_count": 10,
   "id": "38cc2c5e",
   "metadata": {},
   "outputs": [
    {
     "data": {
      "text/plain": [
       "85.0"
      ]
     },
     "execution_count": 10,
     "metadata": {},
     "output_type": "execute_result"
    }
   ],
   "source": [
    "import numpy as np\n",
    "Scores = [80, 85, 90, 75, 95]\n",
    "np.mean(Scores)"
   ]
  },
  {
   "cell_type": "markdown",
   "id": "f57de181",
   "metadata": {},
   "source": [
    "#### Q12. For a normal distribution data what is the relationship between its measure of central tendency?"
   ]
  },
  {
   "cell_type": "markdown",
   "id": "2e4487f9",
   "metadata": {},
   "source": [
    "**Ans:** In normal Distribution the curve is called Bell Curve and here mean, median and mode lies on the same place."
   ]
  },
  {
   "cell_type": "markdown",
   "id": "a476c01b",
   "metadata": {},
   "source": [
    "#### Q13. How is covariance different from correlation?"
   ]
  },
  {
   "cell_type": "markdown",
   "id": "ef361cbb",
   "metadata": {},
   "source": [
    "**Ans:** Covariance is an indicator of the extent to which 2 random variables are dependent on each other. A higher number denotes higher dependency. Correlation is a statistical measure that indicates how strongly two variables are related. The value of covariance lies in the range of -∞ and +∞."
   ]
  },
  {
   "cell_type": "markdown",
   "id": "de238618",
   "metadata": {},
   "source": [
    "#### Q14. How do outliers affect measures of central tendency and dispersion? Provide an example."
   ]
  },
  {
   "cell_type": "markdown",
   "id": "71849ee1",
   "metadata": {},
   "source": [
    "**Ans:** Let us Understand this by an example:"
   ]
  },
  {
   "cell_type": "code",
   "execution_count": 12,
   "id": "cbe9abea",
   "metadata": {},
   "outputs": [
    {
     "data": {
      "text/plain": [
       "5.0"
      ]
     },
     "execution_count": 12,
     "metadata": {},
     "output_type": "execute_result"
    }
   ],
   "source": [
    "import numpy as np\n",
    "# Data without any outliers\n",
    "num = [1,2,3,4,5,6,7,8,9]\n",
    "np.mean(num)"
   ]
  },
  {
   "cell_type": "code",
   "execution_count": 13,
   "id": "749286ab",
   "metadata": {},
   "outputs": [
    {
     "data": {
      "text/plain": [
       "5.0"
      ]
     },
     "execution_count": 13,
     "metadata": {},
     "output_type": "execute_result"
    }
   ],
   "source": [
    "np.median(num)"
   ]
  },
  {
   "cell_type": "code",
   "execution_count": 16,
   "id": "b65bd937",
   "metadata": {},
   "outputs": [
    {
     "data": {
      "text/plain": [
       "59.1"
      ]
     },
     "execution_count": 16,
     "metadata": {},
     "output_type": "execute_result"
    }
   ],
   "source": [
    "# Data With outlier\n",
    "data = [1,2,3,4,5,6,7,8,9, 546]\n",
    "np.mean(data)"
   ]
  },
  {
   "cell_type": "code",
   "execution_count": 17,
   "id": "01bc9659",
   "metadata": {},
   "outputs": [
    {
     "data": {
      "text/plain": [
       "5.5"
      ]
     },
     "execution_count": 17,
     "metadata": {},
     "output_type": "execute_result"
    }
   ],
   "source": [
    "np.median(data)"
   ]
  },
  {
   "cell_type": "markdown",
   "id": "b13eebc3",
   "metadata": {},
   "source": [
    "We can see the difference in mean and median with oulier."
   ]
  },
  {
   "cell_type": "markdown",
   "id": "badc7108",
   "metadata": {},
   "source": [
    "Let's try for measures of dispersion"
   ]
  },
  {
   "cell_type": "code",
   "execution_count": null,
   "id": "bd512888",
   "metadata": {},
   "outputs": [],
   "source": [
    "# "
   ]
  }
 ],
 "metadata": {
  "kernelspec": {
   "display_name": "Python 3 (ipykernel)",
   "language": "python",
   "name": "python3"
  },
  "language_info": {
   "codemirror_mode": {
    "name": "ipython",
    "version": 3
   },
   "file_extension": ".py",
   "mimetype": "text/x-python",
   "name": "python",
   "nbconvert_exporter": "python",
   "pygments_lexer": "ipython3",
   "version": "3.9.13"
  }
 },
 "nbformat": 4,
 "nbformat_minor": 5
}
