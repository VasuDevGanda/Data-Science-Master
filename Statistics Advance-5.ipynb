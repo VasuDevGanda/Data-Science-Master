{
 "cells": [
  {
   "cell_type": "markdown",
   "id": "5d5eacf0",
   "metadata": {},
   "source": [
    "## Assignment: Statistics Advance-5"
   ]
  },
  {
   "cell_type": "markdown",
   "id": "a2d04ada",
   "metadata": {},
   "source": [
    "### Q1. Calculate the 95% confidence interval for a sample of data with a mean of 50 and a standard deviation of 5 using Python. Interpret the results."
   ]
  },
  {
   "cell_type": "code",
   "execution_count": 17,
   "id": "f4284e1b",
   "metadata": {},
   "outputs": [
    {
     "name": "stdout",
     "output_type": "stream",
     "text": [
      "With 95% Confidence we can conclude that population mean is between 49.02 and 50.98\n"
     ]
    }
   ],
   "source": [
    "import numpy as np\n",
    "sample_mean = 50\n",
    "sample_std = 5\n",
    "alpha = 0.05\n",
    "n = 100 #Assumuing sample size = 100\n",
    "\n",
    "# calculating margin of error\n",
    "margin_of_error = 1.96 * sample_std/np.sqrt(n)\n",
    "\n",
    "# Calulating confidence interval\n",
    "lower_CI = sample_mean - margin_of_error\n",
    "upper_CI = sample_mean + margin_of_error\n",
    "\n",
    "print(f\"With 95% Confidence we can conclude that population mean is between {lower_CI} and {upper_CI}\")"
   ]
  },
  {
   "cell_type": "markdown",
   "id": "c2815c14",
   "metadata": {},
   "source": [
    "### Q2. Conduct a chi-square goodness of fit test to determine if the distribution of colors of M&Ms in a bag matches the expected distribution of 20% blue, 20% orange, 20% green, 10% yellow, 10% red, and 20% brown. Use Python to perform the test with a significance level of 0.05."
   ]
  },
  {
   "cell_type": "code",
   "execution_count": 38,
   "id": "0ebb259d",
   "metadata": {},
   "outputs": [
    {
     "name": "stdout",
     "output_type": "stream",
     "text": [
      "Reject the null hypothesis. The observed distribution is significantly different from the expected distribution.\n"
     ]
    }
   ],
   "source": [
    "import scipy.stats as stats\n",
    "import numpy as np\n",
    "\n",
    "# Observed Data (As data is not given so we are taking our own)\n",
    "observed = np.array([10, 20, 25, 15, 5, 25])\n",
    "\n",
    "# Expeceted Data (Based on the given expactations)\n",
    "expected = np.array([0.2,0.2,0.2,0.1,0.1,0.2]) * np.sum(observed)\n",
    "\n",
    "# Performing chi square goodness fit test\n",
    "chi, p_value = stats.chisquare(f_obs= observed, f_exp= expected)\n",
    "\n",
    "# Set Significance level\n",
    "significance_level = 0.05\n",
    "\n",
    "# Compare p_value with  significance level to make decision\n",
    "if p_value < significance_level:\n",
    "    print(\"Reject the null hypothesis. The observed distribution is significantly different from the expected distribution.\")\n",
    "else:\n",
    "    print(\"Fail to reject the null hypothesis. The observed distribution is not significantly different from the expected distribution.\")"
   ]
  },
  {
   "attachments": {
    "image.png": {
     "image/png": "[encoded data removed]"
    }
   },
   "cell_type": "markdown",
   "id": "544c3869",
   "metadata": {},
   "source": [
    "### Q3. Use Python to calculate the chi-square statistic and p-value for a contingency table with the following data:\n",
    "\n",
    "![image.png](attachment:image.png)\n",
    "\n",
    "### Interpret the results of the test."
   ]
  },
  {
   "cell_type": "code",
   "execution_count": 45,
   "id": "8ff146a1",
   "metadata": {},
   "outputs": [
    {
     "name": "stdout",
     "output_type": "stream",
     "text": [
      "Chi-square test statistic: 5.833333333333334\n",
      "p-value: 0.05411376622282158\n",
      "Degrees of freedom: 2\n",
      "Expected frequencies:\n",
      " [[15. 20.]\n",
      " [15. 20.]\n",
      " [15. 20.]]\n",
      "There is not enough evidence to reject the null hypothesis.\n"
     ]
    }
   ],
   "source": [
    "import numpy as np\n",
    "import scipy.stats as stats\n",
    "\n",
    "# create contigency table\n",
    "observed = np.array([[20,15],[10,25],[15,20]])\n",
    "\n",
    "# calculate the chi square statistics and p value\n",
    "chi2, p_value, dof, expected = stats.chi2_contingency(observed)\n",
    "\n",
    "# Print the results\n",
    "print(\"Chi-square test statistic:\", chi2)\n",
    "print(\"p-value:\", p_value)\n",
    "print(\"Degrees of freedom:\", dof)\n",
    "print(\"Expected frequencies:\\n\", expected)\n",
    "\n",
    "# Interpret the results\n",
    "alpha = 0.05\n",
    "if p_value < alpha:\n",
    "    print(\"There is significant evidence to reject the null hypothesis.\")\n",
    "else:\n",
    "    print(\"There is not enough evidence to reject the null hypothesis.\")"
   ]
  },
  {
   "cell_type": "markdown",
   "id": "7d43a2b1",
   "metadata": {},
   "source": [
    "### Q4. A study of the prevalence of smoking in a population of 500 individuals found that 60 individuals smoked. Use Python to calculate the 95% confidence interval for the true proportion of individuals in the population who smoke."
   ]
  },
  {
   "cell_type": "code",
   "execution_count": 64,
   "id": "5f4b1445",
   "metadata": {},
   "outputs": [
    {
     "name": "stdout",
     "output_type": "stream",
     "text": [
      "With 95% Confidence we can conclude that true proportion of individuals in the population who smoke is between 9.15158654686508% and 14.84841345313492%\n"
     ]
    }
   ],
   "source": [
    "import numpy as np\n",
    "\n",
    "n = 500\n",
    "p = 60/n\n",
    "alpha = 0.05\n",
    "\n",
    "margin_of_error = 1.96 * np.sqrt((p*(1-p))/n)\n",
    "lower_ci = p - margin_of_error\n",
    "upper_ci = p+margin_of_error\n",
    "\n",
    "print(f\"With 95% Confidence we can conclude that true proportion of individuals in the population who smoke is between {lower_ci*100}% and {upper_ci*100}%\")"
   ]
  },
  {
   "cell_type": "markdown",
   "id": "7d28a66b",
   "metadata": {},
   "source": [
    "### Q5. Calculate the 90% confidence interval for a sample of data with a mean of 75 and a standard deviation of 12 using Python. Interpret the results."
   ]
  },
  {
   "cell_type": "code",
   "execution_count": 57,
   "id": "8fe29041",
   "metadata": {},
   "outputs": [
    {
     "name": "stdout",
     "output_type": "stream",
     "text": [
      "With 90% Confidence we can conclude that population mean is between 72.648 and 77.352\n"
     ]
    }
   ],
   "source": [
    "import numpy as np\n",
    "sample_mean = 75\n",
    "sample_std = 12\n",
    "alpha = 0.10\n",
    "n = 100 #Assumuing sample size = 100\n",
    "\n",
    "# calculating margin of error\n",
    "margin_of_error = 1.96 * sample_std/np.sqrt(n)\n",
    "\n",
    "# Calulating confidence interval\n",
    "lower_CI = sample_mean - margin_of_error\n",
    "upper_CI = sample_mean + margin_of_error\n",
    "\n",
    "print(f\"With 90% Confidence we can conclude that population mean is between {lower_CI} and {upper_CI}\")"
   ]
  },
  {
   "cell_type": "markdown",
   "id": "5f30f791",
   "metadata": {},
   "source": [
    "### Q6. Use Python to plot the chi-square distribution with 10 degrees of freedom. Label the axes and shade the area corresponding to a chi-square statistic of 15."
   ]
  },
  {
   "cell_type": "code",
   "execution_count": 63,
   "id": "3c0fd56d",
   "metadata": {},
   "outputs": [
    {
     "data": {
      "image/png": "[encoded data removed]",
      "text/plain": [
       "<Figure size 640x480 with 1 Axes>"
      ]
     },
     "metadata": {},
     "output_type": "display_data"
    }
   ],
   "source": [
    "import numpy as np\n",
    "import matplotlib.pyplot as plt\n",
    "from scipy.stats import chi2\n",
    "\n",
    "df = 10\n",
    "\n",
    "# Define the range of x values\n",
    "x = np.linspace(0, 30, 200)\n",
    "\n",
    "# Plot the chi-square distribution\n",
    "plt.plot(x, chi2.pdf(x, df), 'b-', lw=2)\n",
    "\n",
    "# Shade the area corresponding to a chi-square statistic of 15\n",
    "x_shade = np.linspace(15, 30, 200)\n",
    "y_shade = chi2.pdf(x_shade, df)\n",
    "plt.fill_between(x_shade, y_shade, color='blue', alpha=0.5)\n",
    "\n",
    "# Label the axes\n",
    "plt.xlabel('Chi-Square Statistic')\n",
    "plt.ylabel('Density')\n",
    "\n",
    "# Show the plot\n",
    "plt.show()\n"
   ]
  },
  {
   "cell_type": "markdown",
   "id": "27838350",
   "metadata": {},
   "source": [
    "### Q7. A random sample of 1000 people was asked if they preferred Coke or Pepsi. Of the sample, 520 preferred Coke. Calculate a 99% confidence interval for the true proportion of people in the population who prefer Coke."
   ]
  },
  {
   "cell_type": "code",
   "execution_count": 68,
   "id": "c2ff543f",
   "metadata": {},
   "outputs": [
    {
     "name": "stdout",
     "output_type": "stream",
     "text": [
      "With 95% Confidence we can conclude that true proportion of individuals in the population who smoke is between 47.92392659536166% and 56.076073404638336%\n"
     ]
    }
   ],
   "source": [
    "import numpy as np\n",
    "\n",
    "n = 1000\n",
    "p = 520/n\n",
    "alpha = 0.01\n",
    "\n",
    "margin_of_error = 2.58 * np.sqrt((p*(1-p))/n)\n",
    "lower_ci = p - margin_of_error\n",
    "upper_ci = p+margin_of_error\n",
    "\n",
    "print(f\"With 95% Confidence we can conclude that true proportion of individuals in the population who smoke is between {lower_ci*100}% and {upper_ci*100}%\")"
   ]
  },
  {
   "cell_type": "markdown",
   "id": "37300dcb",
   "metadata": {},
   "source": [
    "### Q8. A researcher hypothesizes that a coin is biased towards tails. They flip the coin 100 times and observe 45 tails. Conduct a chi-square goodness of fit test to determine if the observed frequencies match the expected frequencies of a fair coin. Use a significance level of 0.05."
   ]
  },
  {
   "cell_type": "markdown",
   "id": "42097a57",
   "metadata": {},
   "source": [
    "**Ans:** o conduct a chi-square goodness of fit test to determine if the observed frequencies match the expected frequencies of a fair coin, we can follow these steps:\n",
    "\n",
    "Step 1: State the null and alternative hypotheses.\n",
    "\n",
    "The null hypothesis is that the observed frequencies match the expected frequencies of a fair coin, and the alternative hypothesis is that the observed frequencies do not match the expected frequencies of a fair coin.\n",
    "\n",
    "H0: The coin is fair (i.e., p = 0.5) Ha: The coin is biased towards tails (i.e., p < 0.5)\n",
    "\n",
    "Step 2: Determine the expected frequencies.\n",
    "\n",
    "If the coin is fair, we would expect to see 50% heads and 50% tails in 100 flips. Therefore, the expected frequencies are:\n",
    "\n",
    "Expected frequency of heads: 100 * 0.5 = 50 Expected frequency of tails: 100 * 0.5 = 50\n",
    "\n",
    "Step 3: Calculate the test statistic.\n",
    "\n",
    "The chi-square test statistic for a goodness of fit test is calculated using the following formula:\n",
    "\n",
    "χ2 = ∑(O-E)²/E\n",
    "\n",
    "Where:\n",
    "\n",
    "χ2 is the chi-square test statistic O is the observed frequency E is the expected frequency Plugging in the observed and expected frequencies, we get:\n",
    "\n",
    "χ2 = [(45-50)²/50] + [(55-50)²/50] χ2 = 1\n",
    "\n",
    "Step 4: Determine the degrees of freedom.\n",
    "\n",
    "The degrees of freedom for a goodness of fit test are calculated as:\n",
    "\n",
    "df = k - 1\n",
    "\n",
    "Where k is the number of categories. In this case, we have two categories (heads and tails), so k = 2. Therefore:\n",
    "\n",
    "df = 2 - 1 = 1\n",
    "\n",
    "Step 5: Determine the critical value and p-value.\n",
    "\n",
    "Using a significance level of 0.05 and 1 degree of freedom, we can find the critical value from a chi-square distribution table or calculator. The critical value is 3.84.\n",
    "\n",
    "We can also find the p-value using a chi-square distribution table or calculator. The p-value is the probability of getting a test statistic as extreme or more extreme than the observed, assuming the null hypothesis is true. In this case, the p-value is 0.3173.\n",
    "\n",
    "Step 6: Make a decision.\n",
    "\n",
    "Since the test statistic (χ2 = 1) is less than the critical value (3.84) and the p-value (0.3173) is greater than the significance level (0.05), we fail to reject the null hypothesis.\n",
    "\n",
    "Therefore, we do not have enough evidence to conclude that the coin is biased towards tails. The observed frequencies are consistent with the expected frequencies of a fair coin."
   ]
  },
  {
   "attachments": {
    "image.png": {
     "image/png": "[encoded data removed]"
    }
   },
   "cell_type": "markdown",
   "id": "f7d7ceca",
   "metadata": {},
   "source": [
    "### Q9. A study was conducted to determine if there is an association between smoking status (smoker or non-smoker) and lung cancer diagnosis (yes or no). The results are shown in the contingency table below. Conduct a chi-square test for independence to determine if there is a significant association between smoking status and lung cancer diagnosis.\n",
    "![image.png](attachment:image.png)\n",
    "### Use a significance level of 0.05."
   ]
  },
  {
   "cell_type": "markdown",
   "id": "5106d4ed",
   "metadata": {},
   "source": [
    "**Ans:** To conduct a chi-square test for independence, we need to determine the observed frequencies, expected frequencies, degrees of freedom, and the critical value for a significance level of 0.05.\n",
    "\n",
    "Observed Frequencies:\n",
    "\n",
    "|Lung Cancer: | Yes | No   | Total|\n",
    "|-------------|-----|------|------|\n",
    "| Smoker      | 60  |  30  | 200  |\n",
    "| Non-Smoker  | 140 |  170 | 200  |\n",
    "| Total       | 90  |  310 | 400  |\n",
    "\n",
    "\n",
    "Total number of smokers = 60 + 140 = 200 \n",
    "\n",
    "Total number of non-smokers = 30 + 170 = 200 \n",
    "\n",
    "Total number of individuals with lung cancer = 60 + 30 = 90 \n",
    "\n",
    "Total number of individuals without lung cancer = 140 + 170 = 310\n",
    "\n",
    "Expected Frequencies: We can calculate the expected frequencies for each cell by multiplying the row total and the column total and then dividing by the grand total. \n",
    "\n",
    "E = (row total * column total) / grand total\n",
    "\n",
    "Expected Frequency:\n",
    "\n",
    "|Lung Cancer: | Yes | No   | Total|\n",
    "|-------------|-----|------|------|\n",
    "| Smoker      | 45  |  155 | 200  |\n",
    "| Non-Smoker  | 45  |  155 | 200  |\n",
    "| Total       | 90  |  310 | 400  |\n",
    "\n",
    "Degrees of Freedom: The degrees of freedom (df) for a chi-square test for independence can be calculated as (r-1)(c-1), where r is the number of rows and c is the number of columns in the contingency table. In this case, df = (2-1)(2-1) = 1\n",
    "\n",
    "Critical Value: We can look up the critical value for a chi-square distribution with 1 degree of freedom and a significance level of 0.05 in a chi-square table. The critical value is 3.841.\n",
    "\n",
    "Chi-Square Test Calculation: We can now calculate the chi-square test statistic using the formula:\n",
    "\n",
    "χ² = Σ[(O - E)²/E]\n",
    "\n",
    "where Σ is the sum of all cells in the contingency table, O is the observed frequency, and E is the expected frequency.\n",
    "\n",
    "Using the observed and expected frequencies, we can calculate the chi-square test statistic as follows:\n",
    "\n",
    "χ² = [(60-45)²/45] + [(140-155)²/155] + [(30-45)²/45] + [(170-155)²/155] = 12.9\n",
    "\n",
    "Since the calculated chi-square test statistic (12.9) is greater than the critical value (3.841), we reject the null hypothesis. Therefore, we can conclude that there is a significant association between smoking status and lung cancer diagnosis at a significance level of 0.05."
   ]
  },
  {
   "attachments": {
    "image.png": {
     "image/png": "[encoded data removed]"
    }
   },
   "cell_type": "markdown",
   "id": "d9f51f09",
   "metadata": {},
   "source": [
    "### Q10. A study was conducted to determine if the proportion of people who prefer milk chocolate, dark chocolate, or white chocolate is different in the U.S. versus the U.K. A random sample of 500 people from the U.S. and a random sample of 500 people from the U.K. were surveyed. The results are shown in the contingency table below. Conduct a chi-square test for independence to determine if there is a significant association between chocolate preference and country of origin.\n",
    "![image.png](attachment:image.png)\n",
    "### Use a significance level of 0.01."
   ]
  },
  {
   "cell_type": "markdown",
   "id": "23b55136",
   "metadata": {},
   "source": [
    "**Ans:** To conduct a chi-square test for independence, we need to determine the observed frequencies, expected frequencies, degrees of freedom, and the critical value for a significance level of 0.01.\n",
    "\n",
    "Observed Frequencies:\n",
    "\n",
    "\n",
    "|Chocolate:   | Milk | Dark | White | Total |\n",
    "|-------------|------|------|-------|-------|\n",
    "| US(n=500)   | 200  |  150 |  150  | 300   |\n",
    "| UK(n=500)   | 225  |  175 |  100  | 500   |\n",
    "| Total       | 425  |  325 |  250  | 1000  |\n",
    "\n",
    "Expected Frequencies: We can calculate the expected frequencies for each cell by multiplying the row total and the column total and then dividing by the grand total.\n",
    "\n",
    "E = (row total * column total) / grand total\n",
    "\n",
    "Expected Frequency:\n",
    "\n",
    "|Chocolate:   | Milk | Dark | White | Total |\n",
    "|-------------|------|------|-------|-------|\n",
    "| US(n=500)   | 212.5| 162.5|  125  | 300   |\n",
    "| UK(n=500)   | 212.5| 162.5|  125  | 500   |\n",
    "| Total       | 425  |  325 |  250  | 1000  |\n",
    "\n",
    "\n",
    "Degrees of Freedom:\n",
    "\n",
    "The degrees of freedom (df) for a chi-square test for independence can be calculated as (r-1)*(c-1), where r is the number of rows and c is the number of columns in the contingency table.\n",
    "\n",
    "In this case, df = (2-1)*(3-1) = 2\n",
    "\n",
    "Critical Value:\n",
    "\n",
    "We can look up the critical value for a chi-square distribution with 2 degrees of freedom and a significance level of 0.01 in a chi-square table. The critical value is 9.21.\n",
    "\n",
    "Chi-Square Test Calculation:\n",
    "\n",
    "We can now calculate the chi-square test statistic using the formula:\n",
    "\n",
    "χ² = Σ[(O - E)²/E]\n",
    "\n",
    "where Σ is the sum of all cells in the contingency table, O is the observed frequency, and E is the expected frequency.\n",
    "\n",
    "Using the observed and expected frequencies, we can calculate the chi-square test statistic as follows:\n",
    "\n",
    "χ² = [(200-212.5)²/212.5] + [(150-162.5)²/162.5] + [(150-125)²/125] + [(225-212.5)²/212.5] + [(175-162.5)²/162.5] + [(100-125)²/125] = 13.38\n",
    "\n",
    "Since the calculated chi-square test statistic (13.38) is greater than the critical value (9.21), we reject the null hypothesis. Therefore, we can conclude that there is a significant association between chocolate preference and country of origin at a significance level of 0.01."
   ]
  },
  {
   "cell_type": "markdown",
   "id": "b5480436",
   "metadata": {},
   "source": [
    "### Q11. A random sample of 30 people was selected from a population with an unknown mean and standard deviation. The sample mean was found to be 72 and the sample standard deviation was found to be 10. Conduct a hypothesis test to determine if the population mean is significantly different from 70. Use a significance level of 0.05."
   ]
  },
  {
   "cell_type": "markdown",
   "id": "cc04034b",
   "metadata": {},
   "source": [
    "**Ans:**"
   ]
  }
 ],
 "metadata": {
  "kernelspec": {
   "display_name": "Python 3 (ipykernel)",
   "language": "python",
   "name": "python3"
  },
  "language_info": {
   "codemirror_mode": {
    "name": "ipython",
    "version": 3
   },
   "file_extension": ".py",
   "mimetype": "text/x-python",
   "name": "python",
   "nbconvert_exporter": "python",
   "pygments_lexer": "ipython3",
   "version": "3.9.13"
  }
 },
 "nbformat": 4,
 "nbformat_minor": 5
}
