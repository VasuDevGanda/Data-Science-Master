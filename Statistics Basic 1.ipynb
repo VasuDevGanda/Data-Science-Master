{
 "cells": [
  {
   "cell_type": "markdown",
   "id": "a4353767",
   "metadata": {},
   "source": [
    "#### Q1. What is Statistics?"
   ]
  },
  {
   "cell_type": "markdown",
   "id": "42772bf0",
   "metadata": {},
   "source": [
    "**Ans:** It is the science of collecting, organizing and analyzing the data."
   ]
  },
  {
   "cell_type": "markdown",
   "id": "a816787d",
   "metadata": {},
   "source": [
    "#### Q2. Define the different types of statistics and give an example of when each type might be used."
   ]
  },
  {
   "cell_type": "markdown",
   "id": "3c20b58c",
   "metadata": {},
   "source": [
    "**Ans:** There are mainly two types of statistics:\n",
    "- **Descriptive Statistics** : It consist of organizing and summarizing the data. It is used when we need to find mean, median or mode.\n",
    "\n",
    "- **Inferential Statistics:** It is a field of statistics that uses analytical tools for drawing conclusion about a population by examining random samples. example, Exit pole."
   ]
  },
  {
   "cell_type": "markdown",
   "id": "74ebceeb",
   "metadata": {},
   "source": [
    "#### Q3. What are the different types of data and how do they differ from each other? Provide an example of each type of data."
   ]
  },
  {
   "cell_type": "markdown",
   "id": "69e548a4",
   "metadata": {},
   "source": [
    "**Ans:** There are mainly two types of data:\n",
    "1. Quantitative Data : It is a numerical type data. It is further divided into two types:\n",
    "    - Discreate Data : Here data is present in a whole number. eg, No. of bank a/c\n",
    "    - Continous Data: it consist of data that has any value. eg, weight, height etc.\n",
    "\n",
    "\n",
    "2. Qualitative Data: It consist of categorical Data. It has two types:\n",
    "    - Nominal Data : These data are categorical but we cannot give any ranking to them. eg, gender, color etc.\n",
    "    - Ordinal Data: Here ranking can be given, like good, bad, better etc."
   ]
  },
  {
   "cell_type": "markdown",
   "id": "7917f49c",
   "metadata": {},
   "source": [
    "#### Q4. Categorise the following datasets with respect to quantitative and qualitative data types:\n",
    "1. Grading in exam: A+, A, B+, B, C+, C, D, E\n",
    "2. Colour of mangoes: yellow, green, orange, red\n",
    "3. Height data of a class: [178.9, 179, 179.5, 176, 177.2, 178.3, 175.8,...]\n",
    "4. Number of mangoes exported by a farm: [500, 600, 478, 672, ...]"
   ]
  },
  {
   "cell_type": "markdown",
   "id": "e30342db",
   "metadata": {},
   "source": [
    "**Ans:**\n",
    "1. Qualitative (Ordinal)\n",
    "2. Qualitative (Nominal)\n",
    "3. Quantitave (Continous)\n",
    "4. Quantitave (Discrete)\n",
    " "
   ]
  },
  {
   "cell_type": "markdown",
   "id": "ced25762",
   "metadata": {},
   "source": [
    "#### Q5. Explain the concept of levels of measurement and give an example of a variable for each level."
   ]
  },
  {
   "cell_type": "markdown",
   "id": "6acee320",
   "metadata": {},
   "source": [
    "**Ans:** Levels of measurement is also called scale of measurement of data. According to this data is categorized in 4 categories:\n",
    "\n",
    "1. Nominal Scale Data: Qualitative or categorical variable lie under nominal category. Here order does not matter. Eg. Gender, Color etc.\n",
    "\n",
    "2. Ordinal Scale Data: Here order and ranking matters but difference between variable cannot be measured. Eg. Qualification\n",
    "\n",
    "3. Interval Scale Data: In these type of variable rank and order matters as well as we can find the difference between variable (Excluding Ratio) but it does not have '0' as starting value. E.g. Temperature.\n",
    "\n",
    "4. Ratio Scale Data: It does have \"0\" as starting value as well as difference and ratio can be measured. Eg. Grades"
   ]
  },
  {
   "cell_type": "markdown",
   "id": "cd61af57",
   "metadata": {},
   "source": [
    "#### Q6. Why is it important to understand the level of measurement when analyzing data? Provide an example to illustrate your answer."
   ]
  },
  {
   "cell_type": "markdown",
   "id": "0b6fdf07",
   "metadata": {},
   "source": [
    "**Ans:** It is important to understand the level of measurement of variables, because the level of measurement determines the type of statistical analysis that can be conducted.\n",
    "\n",
    "For example, if the level of measurement is not considered, applying a statistical test meant for one type of variable to another type can yield misleading results. Therefore, understanding the level of measurement ensures accurate analysis and valid interpretations of research findings."
   ]
  },
  {
   "cell_type": "markdown",
   "id": "0d8b492a",
   "metadata": {},
   "source": [
    "#### Q7. How nominal data type is different from ordinal data type."
   ]
  },
  {
   "cell_type": "markdown",
   "id": "688b1136",
   "metadata": {},
   "source": [
    "**Ans:** In nominal data types there is no concept of ranking where as in ordinal data types we can rank the data. For example in gender we cannot say male is supirior or female but in grades we can say A is better than B."
   ]
  },
  {
   "cell_type": "markdown",
   "id": "27211e25",
   "metadata": {},
   "source": [
    "#### Q8. Which type of plot can be used to display data in terms of range?"
   ]
  },
  {
   "cell_type": "markdown",
   "id": "c1942acc",
   "metadata": {},
   "source": [
    "**Ans** Histogram"
   ]
  },
  {
   "cell_type": "markdown",
   "id": "d29c3f9f",
   "metadata": {},
   "source": [
    "#### Q9. Describe the difference between descriptive and inferential statistics. Give an example of each type of statistics and explain how they are used."
   ]
  },
  {
   "cell_type": "markdown",
   "id": "b89f8dca",
   "metadata": {},
   "source": [
    "**Ans:** Inferential statistics helps to compare data, make hypotheses and predictions. Descriptive statistics explains already known data related to a particular sample or population of a small size. Inferential statistics, however, aims to draw inferences or conclusions about a whole population.\n",
    "\n",
    "Examples of descriptive statistics are used to enumerate and explain a dataset's key characteristics. Measures like mean, median, mode, range, variance, and standard deviation are some examples. For instance, you could use descriptive statistics to determine the average age, the age distribution, and the age standard deviation of a group of individuals if you wanted to summarize their ages.\n",
    "\n",
    "Using a sample of data, inferential statistics is used to draw conclusions or generalizations about a broader population. Examples include regression analysis, confidence ranges, and hypothesis testing. For instance, you could use inferential statistics to assess whether there is a significant difference in the outcomes of patients who receive the drug compared to those who receive a placebo if you want to know if a new drug is effective."
   ]
  },
  {
   "cell_type": "markdown",
   "id": "9f026682",
   "metadata": {},
   "source": [
    "#### Q10. What are some common measures of central tendency and variability used in statistics? Explain how each measure can be used to describe a dataset."
   ]
  },
  {
   "cell_type": "markdown",
   "id": "bdfd633b",
   "metadata": {},
   "source": [
    "**Ans** The followings are some common measures of central tendency:\n",
    "\n",
    "1. Mean: The mean is the sum of the value of each observation in a dataset divided by the number of observations. This is also known as the arithmetic average. It is used to get an overall idea or picture of data set. Also, it can be used in missing value treatment.\n",
    "\n",
    "2. Mode: The mode is the most commonly occurring value in a distribution. It is used to get the most common or repeated data in dataset. Also used for missing value treatment.\n",
    "\n",
    "3. Median: The median is the middle value in distribution when the values are arranged in ascending or descending order. It is the "
   ]
  }
 ],
 "metadata": {
  "kernelspec": {
   "display_name": "Python 3 (ipykernel)",
   "language": "python",
   "name": "python3"
  },
  "language_info": {
   "codemirror_mode": {
    "name": "ipython",
    "version": 3
   },
   "file_extension": ".py",
   "mimetype": "text/x-python",
   "name": "python",
   "nbconvert_exporter": "python",
   "pygments_lexer": "ipython3",
   "version": "3.9.13"
  }
 },
 "nbformat": 4,
 "nbformat_minor": 5
}
