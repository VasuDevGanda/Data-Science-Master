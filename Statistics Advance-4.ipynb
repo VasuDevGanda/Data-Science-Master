{
 "cells": [
  {
   "cell_type": "markdown",
   "id": "78e0948f",
   "metadata": {},
   "source": [
    "## Assignment: Statistics Advance-4"
   ]
  },
  {
   "cell_type": "markdown",
   "id": "cac58e13",
   "metadata": {},
   "source": [
    "### Q1: What is the difference between a t-test and a z-test? Provide an example scenario where you would use each type of test."
   ]
  },
  {
   "cell_type": "markdown",
   "id": "14146770",
   "metadata": {},
   "source": [
    "**Ans:** The main difference between a t-test and a z-test is the type of inference they are used for. A t-test is used when the sample size is small (less than 30) and the population standard deviation is unknown, whereas a z-test is used when the sample size is large (greater than or equal to 30) and the population standard deviation is known or estimated.\n",
    "\n",
    "A scenario where a t-test would be appropriate is when a researcher wants to compare the mean weight loss of two groups of people who are following different diets. The researcher randomly selects 20 participants from each group and measures their weight loss after two months. Since the sample size is less than 30 and the population standard deviation is unknown, a t-test would be appropriate to determine if there is a statistically significant difference in weight loss between the two groups.\n",
    "\n",
    "A scenario where a z-test would be appropriate is when a researcher wants to compare the mean scores of two groups of students on a standardized test. The researcher randomly selects 100 students from each group and records their scores. Since the sample size is large (greater than or equal to 30) and the population standard deviation can be estimated from the sample, a z-test would be appropriate to determine if there is a statistically significant difference in scores between the two groups."
   ]
  },
  {
   "cell_type": "markdown",
   "id": "e32b38e4",
   "metadata": {},
   "source": [
    "### Q2: Differentiate between one-tailed and two-tailed tests."
   ]
  },
  {
   "cell_type": "markdown",
   "id": "d80ad72a",
   "metadata": {},
   "source": [
    "**Ans:** One-tailed and two-tailed tests refer to the directionality of the statistical hypothesis being tested.\n",
    "\n",
    "In a two-tailed test, the null hypothesis states that there is no difference or relationship between two variables, while the alternative hypothesis states that there is a difference or relationship between the variables, but it does not specify the direction of the difference or relationship. For example, in a study comparing the mean height of men and women, the null hypothesis would be that there is no difference in mean height between men and women, and the alternative hypothesis would be that there is a difference in mean height between men and women, but it does not specify whether men are taller or women are taller.\n",
    "\n",
    "In a one-tailed test, the null hypothesis states that there is no difference or relationship between two variables, while the alternative hypothesis specifies the direction of the difference or relationship. For example, in a study comparing the mean height of men and women, a one-tailed test could be used to test the hypothesis that men are taller than women. The null hypothesis would be that there is no difference in mean height between men and women, and the alternative hypothesis would be that men are taller than women.\n",
    "\n",
    "In general, a one-tailed test is used when there is a clear theoretical reason to expect the difference or relationship to occur in a specific direction, while a two-tailed test is used when there is no clear theoretical reason to expect the difference or relationship to occur in a specific direction."
   ]
  },
  {
   "cell_type": "markdown",
   "id": "c0405ade",
   "metadata": {},
   "source": [
    "### Q3: Explain the concept of Type 1 and Type 2 errors in hypothesis testing. Provide an example scenario for each type of error."
   ]
  },
  {
   "cell_type": "markdown",
   "id": "4931e735",
   "metadata": {},
   "source": [
    "**Ans:** In hypothesis testing, Type 1 and Type 2 errors are two possible errors that can occur.\n",
    "\n",
    "Type 1 error occurs when the null hypothesis is rejected even though it is true. This means that the researcher concludes that there is a significant difference or effect when there is actually none in the population. The probability of making a Type 1 error is denoted by alpha, and it is typically set at a predetermined level (e.g., 0.05 or 0.01) before conducting the hypothesis test. An example scenario for Type 1 error is a drug trial where the null hypothesis is that the drug does not have any effect, and the alternative hypothesis is that the drug has an effect. If the researchers conclude that the drug has an effect, but it actually does not, then it is a Type 1 error.\n",
    "\n",
    "Type 2 error occurs when the null hypothesis is not rejected even though it is false. This means that the researcher fails to conclude that there is a significant difference or effect when there is actually one in the population. The probability of making a Type 2 error is denoted by beta. An example scenario for Type 2 error is a medical test where the null hypothesis is that the patient is healthy, and the alternative hypothesis is that the patient is sick. If the test results indicate that the patient is healthy, but the patient is actually sick, then it is a Type 2 error.\n",
    "\n",
    "In hypothesis testing, there is always a trade-off between Type 1 and Type 2 errors. Decreasing the probability of one type of error increases the probability of the other type of error. Therefore, the appropriate level of alpha and beta depends on the specific situation and the consequences of making each type of error."
   ]
  },
  {
   "cell_type": "markdown",
   "id": "a25347c6",
   "metadata": {},
   "source": [
    "### Q4: Explain Bayes's theorem with an example."
   ]
  },
  {
   "cell_type": "markdown",
   "id": "cf3ebad4",
   "metadata": {},
   "source": [
    "**Ans:** Bayes's theorem is a fundamental concept in probability theory that describes the probability of an event based on prior knowledge or evidence. The theorem states that the probability of an event occurring given some evidence is equal to the prior probability of the event multiplied by the likelihood of the evidence given the event, divided by the probability of the evidence.\n",
    "\n",
    "Mathematically, Bayes's theorem can be written as:\n",
    "\n",
    "P(A|B) = P(B|A) * P(A) / P(B)\n",
    "\n",
    "where P(A|B) is the conditional probability of event A given event B, P(B|A) is the conditional probability of event B given event A, P(A) is the prior probability of event A, and P(B) is the probability of event B.\n",
    "\n",
    "An example scenario where Bayes's theorem can be applied is in medical diagnosis. Let's say a certain disease affects 1 in 1000 people in the general population. A diagnostic test for the disease has a sensitivity of 95% and a specificity of 98%. This means that the test correctly identifies 95% of people who have the disease (true positives) and correctly identifies 98% of people who do not have the disease (true negatives).\n",
    "\n",
    "Suppose a person tests positive for the disease. What is the probability that the person actually has the disease?\n",
    "\n",
    "Using Bayes's theorem, we can calculate the probability as follows:\n",
    "\n",
    "P(disease | positive test) = P(positive test | disease) * P(disease) / P(positive test)\n",
    "\n",
    "The probability of a positive test given the person has the disease is the sensitivity of the test, which is 0.95. The prior probability of the person having the disease is 0.001. The probability of a positive test can be calculated as the sum of the probability of a true positive (0.95 * 0.001) and the probability of a false positive (0.02 * 0.999), which is 0.0218.\n",
    "\n",
    "Substituting these values in Bayes's theorem, we get:\n",
    "\n",
    "P(disease | positive test) = 0.95 * 0.001 / 0.0218 ≈ 0.0436\n",
    "\n",
    "This means that the probability of the person actually having the disease given a positive test result is only around 4.4%, despite the high sensitivity of the test."
   ]
  },
  {
   "cell_type": "markdown",
   "id": "21bfb116",
   "metadata": {},
   "source": [
    "### Q5: What is a confidence interval? How to calculate the confidence interval, explain with an example."
   ]
  },
  {
   "cell_type": "markdown",
   "id": "3bc8bca8",
   "metadata": {},
   "source": [
    "**Ans:**  A confidence interval is a range of values that is likely to contain an unknown population parameter with a certain level of confidence based on a sample from that population. The level of confidence represents the degree of uncertainty in the estimate, typically expressed as a percentage.\n",
    "\n",
    "To calculate a confidence interval, we need to determine the sample mean, sample size, sample standard deviation (or estimated population standard deviation), and the level of confidence. The confidence interval is calculated as:\n",
    "\n",
    "Confidence interval = sample mean ± Margin of Error\n",
    "\n",
    "The critical value is obtained from a t-distribution table or a z-distribution table, depending on the sample size and whether the population standard deviation is known. The standard error is calculated as the standard deviation of the sample divided by the square root of the sample size.\n",
    "\n",
    "For example, suppose we want to estimate the average height of students in a school with 95% confidence. We take a random sample of 50 students and measure their heights. The sample mean height is 170 cm and the sample standard deviation is 5 cm. Since the population standard deviation is unknown, we use a t-distribution table to find the critical value for a 95% confidence level and 49 degrees of freedom, which is 2.01.\n",
    "\n",
    "The standard error can be calculated as:\n",
    "\n",
    "Standard error = 5 / √50 ≈ 0.71\n",
    "\n",
    "The confidence interval can then be calculated as:\n",
    "\n",
    "Confidence interval = 170 ± (2.01 * 0.71) ≈ (168.43, 171.57)\n",
    "\n",
    "This means that we can be 95% confident that the true average height of students in the school falls between 168.43 cm and 171.57 cm."
   ]
  },
  {
   "cell_type": "markdown",
   "id": "61dc121e",
   "metadata": {},
   "source": [
    "### Q6. Use Bayes' Theorem to calculate the probability of an event occurring given prior knowledge of the event's probability and new evidence. Provide a sample problem and solution."
   ]
  },
  {
   "cell_type": "markdown",
   "id": "b03e5561",
   "metadata": {},
   "source": [
    "**Ans:** Bayes' Theorem is a mathematical formula used to calculate the probability of an event occurring based on prior knowledge and new evidence. It is used in a wide range of fields, including statistics, probability, and machine learning.\n",
    "\n",
    "The formula for Bayes' Theorem is as follows:\n",
    "\n",
    "P(A|B) = P(B|A) * P(A) / P(B)\n",
    "\n",
    "where: P(A|B) is the probability of event A occurring given the new evidence B P(B|A) is the probability of observing the new evidence B given that event A has occurred P(A) is the prior probability of event A occurring P(B) is the probability of observing the new evidence B\n",
    "\n",
    "Sample problem and solution:\n",
    "\n",
    "Suppose a certain disease affects 1 in 5000 people in a population. A new test for the disease has been developed that is 99% accurate (i.e., the probability of a false positive or false negative is 1%). If a person tests positive for the disease, what is the probability that they actually have the disease?\n",
    "\n",
    "Solution:\n",
    "\n",
    "Let A be the event that a person has the disease, and B be the event that they test positive for the disease. Then, using Bayes' Theorem:\n",
    "\n",
    "P(A|B) = P(B|A) * P(A) / P(B)\n",
    "\n",
    "P(A) = 1/5000 = 0.0002 P(B|A) = 0.99 (probability of testing positive given that the person has the disease) P(B|not A) = 0.01 (probability of testing positive given that the person does not have the disease) P(B) = P(B|A) * P(A) + P(B|not A) * P(not A) = 0.99 * 0.0002 + 0.01 * 0.9998 = 0.010196\n",
    "\n",
    "Therefore,\n",
    "\n",
    "P(A|B) = 0.99 * 0.0002 / 0.010196 = 0.0193\n",
    "\n",
    "So the probability that a person actually has the disease given a positive test result is approximately 1.93%. This means that the new test is not very effective in identifying people with the disease, and a significant number of people may be incorrectly diagnosed."
   ]
  },
  {
   "cell_type": "markdown",
   "id": "25e36f31",
   "metadata": {},
   "source": [
    "### Q7. Calculate the 95% confidence interval for a sample of data with a mean of 50 and a standard deviation of 5. Interpret the results."
   ]
  },
  {
   "cell_type": "code",
   "execution_count": 6,
   "id": "6d43058f",
   "metadata": {},
   "outputs": [
    {
     "name": "stdout",
     "output_type": "stream",
     "text": [
      "The 95% confidence interval indicates that we can be 95% confident that the true population mean lies between 48.21077297881646 and 51.78922702118354.\n"
     ]
    }
   ],
   "source": [
    "import numpy as np\n",
    "\n",
    "alpha = 0.05\n",
    "CI = 0.95\n",
    "sample_mean = 50\n",
    "sample_std = 5\n",
    "sample_size = 30 # Assumption\n",
    "\n",
    "Margin_of_Error = 1.96 * (sample_std/np.sqrt(sample_size))\n",
    "\n",
    "lower_CI = sample_mean - Margin_of_Error\n",
    "upper_CI = sample_mean + Margin_of_Error\n",
    "\n",
    "print(f\"The 95% confidence interval indicates that we can be 95% confident that the true population mean lies between {lower_CI} and {upper_CI}.\")"
   ]
  },
  {
   "cell_type": "markdown",
   "id": "00670eed",
   "metadata": {},
   "source": [
    "### Q8. What is the margin of error in a confidence interval? How does sample size affect the margin of error? Provide an example of a scenario where a larger sample size would result in a smaller margin of error."
   ]
  },
  {
   "cell_type": "markdown",
   "id": "f8921879",
   "metadata": {},
   "source": [
    "**Ans:** The margin of error in a confidence interval is the range of values around a sample estimate, such as a sample mean, that is likely to contain the true population parameter with a specified level of confidence. It represents the amount of uncertainty or error in the estimation process.\n",
    "\n",
    "Sample size is inversely proportional to the margin of error. As the sample size increases, the margin of error decreases, assuming all other factors remain constant. This is because a larger sample size reduces the variability in the data and produces a more accurate estimate of the true population parameter.\n",
    "\n",
    "For example, let's say we want to estimate the average height of students in a school with a 95% confidence level and a margin of error of 1 inch. If we take a sample of 50 students and find that their average height is 65 inches with a standard deviation of 3 inches, we can calculate the confidence interval as follows:\n",
    "\n",
    "Standard error = standard deviation / square root of sample size = 3 / sqrt(50) = 0.4243\n",
    "\n",
    "Margin of error = critical value * standard error (where critical value is obtained from a t-distribution table with 49 degrees of freedom and a 95% confidence level) = 2.009 * 0.4243 = 0.8532\n",
    "\n",
    "Confidence interval = sample mean +/- margin of error = 65 +/- 0.8532 = [64.15, 65.85]\n",
    "\n",
    "If we increase the sample size to 100 while keeping all other factors constant, the standard error will decrease, resulting in a smaller margin of error and a narrower confidence interval. This is because a larger sample size provides more information about the population and reduces the effect of random sampling errors.\n",
    "\n",
    "In summary, a larger sample size generally leads to a smaller margin of error, which indicates a more precise estimate of the population parameter."
   ]
  },
  {
   "cell_type": "markdown",
   "id": "254b1ddc",
   "metadata": {},
   "source": [
    "### Q9. Calculate the z-score for a data point with a value of 75, a population mean of 70, and a population standard deviation of 5. Interpret the results."
   ]
  },
  {
   "cell_type": "code",
   "execution_count": 9,
   "id": "1fa6793a",
   "metadata": {},
   "outputs": [
    {
     "name": "stdout",
     "output_type": "stream",
     "text": [
      "The data point is 1.0 standard deviation above the mean.\n"
     ]
    }
   ],
   "source": [
    "data_point = 75\n",
    "mean = 70\n",
    "standard_deviation = 5\n",
    "\n",
    "# To get the z score we need to use given formula\n",
    "\n",
    "z = (data_point - mean)/standard_deviation\n",
    "\n",
    "# Interpreting the result\n",
    "\n",
    "print(f\"The data point is {z} standard deviation above the mean.\")"
   ]
  },
  {
   "cell_type": "markdown",
   "id": "012f1744",
   "metadata": {},
   "source": [
    "### Q10. In a study of the effectiveness of a new weight loss drug, a sample of 50 participants lost an average of 6 pounds with a standard deviation of 2.5 pounds. Conduct a hypothesis test to determine if the drug is significantly effective at a 95% confidence level using a t-test."
   ]
  },
  {
   "cell_type": "markdown",
   "id": "eec9fbdc",
   "metadata": {},
   "source": [
    "**Ans:** To conduct a hypothesis test to determine if the weight loss drug is significantly effective at a 95% confidence level using a t-test, we can follow these steps:\n",
    "\n",
    "Step 1: State the null and alternative hypotheses.\n",
    "The null hypothesis (H0): The weight loss drug is not significantly effective (mean weight loss = 0).\n",
    "The alternative hypothesis (Ha): The weight loss drug is significantly effective (mean weight loss ≠ 0).\n",
    "\n",
    "Step 2: Set the significance level (α).\n",
    "In this case, the significance level is 0.05 (equivalent to a 95% confidence level).\n",
    "\n",
    "Step 3: Formulate the test statistic.\n",
    "The test statistic for a one-sample t-test is calculated as follows:\n",
    "t = (sample mean - null hypothesis value) / (sample standard deviation / sqrt(sample size))\n",
    "\n",
    "Step 4: Calculate the test statistic.\n",
    "In this case, the sample mean is 6 pounds, the null hypothesis value is 0 pounds, the sample standard deviation is 2.5 pounds, and the sample size is 50. Plugging these values into the formula, we get:\n",
    "t = (6 - 0) / (2.5 / sqrt(50))\n",
    "   = 6 / (2.5 / 7.071)\n",
    "   ≈ 16.97\n",
    "\n",
    "Step 5: Determine the critical value.\n",
    "Since this is a two-tailed test, we need to find the critical values at the corresponding percentiles in the t-distribution. With a significance level of 0.05 and degrees of freedom (df) equal to the sample size minus 1, the critical values for a two-tailed test are approximately -2.009 and 2.009.\n",
    "\n",
    "Step 6: Make a decision.\n",
    "If the absolute value of the test statistic is greater than the critical value, we reject the null hypothesis. Otherwise, if the absolute value of the test statistic is not greater than the critical value, we fail to reject the null hypothesis.\n",
    "\n",
    "In this case, the absolute value of the test statistic (16.97) is greater than the critical value (2.009). Therefore, we reject the null hypothesis.\n",
    "\n",
    "Step 7: Draw a conclusion.\n",
    "Based on the sample data and the hypothesis test, there is sufficient evidence to conclude that the weight loss drug is significantly effective at a 95% confidence level."
   ]
  },
  {
   "cell_type": "markdown",
   "id": "19ffc7b3",
   "metadata": {},
   "source": [
    "### Q11. In a survey of 500 people, 65% reported being satisfied with their current job. Calculate the 95% confidence interval for the true proportion of people who are satisfied with their job."
   ]
  },
  {
   "cell_type": "markdown",
   "id": "b103c544",
   "metadata": {},
   "source": [
    "**Ans:** To calculate the 95% confidence interval for the true proportion of people who are satisfied with their job, we can use the formula for a confidence interval for a proportion. Here are the steps to calculate it:\n",
    "\n",
    "Step 1: Determine the sample proportion and sample size.\n",
    "In this case, the sample proportion is 65% or 0.65, and the sample size is 500.\n",
    "\n",
    "Step 2: Select the confidence level.\n",
    "The confidence level is 95%, which corresponds to a significance level (α) of 0.05. We will use a two-tailed z-value for this calculation.\n",
    "\n",
    "Step 3: Find the z-value for the desired confidence level.\n",
    "The critical value for a 95% confidence level with a two-tailed test is approximately 1.96 based on the standard normal distribution.\n",
    "\n",
    "Step 4: Calculate the margin of error.\n",
    "The margin of error (E) is calculated as:\n",
    "E = z * sqrt((p * (1 - p)) / n)\n",
    "\n",
    "In this case, the z-value is 1.96, the sample proportion is 0.65, and the sample size is 500. Plugging in these values, we get:\n",
    "E = 1.96 * sqrt((0.65 * (1 - 0.65)) / 500)\n",
    "  ≈ 1.96 * sqrt(0.2275 / 500)\n",
    "  ≈ 1.96 * sqrt(0.000455)\n",
    "  ≈ 1.96 * 0.02133\n",
    "  ≈ 0.04176\n",
    "\n",
    "Step 5: Calculate the confidence interval.\n",
    "The confidence interval is calculated as:\n",
    "Confidence Interval = (sample proportion - margin of error, sample proportion + margin of error)\n",
    "\n",
    "In this case, the sample proportion is 0.65 and the margin of error is 0.04176. Plugging in these values, we get:\n",
    "Confidence Interval = (0.65 - 0.04176, 0.65 + 0.04176)\n",
    "                   = (0.60824, 0.69176)\n",
    "\n",
    "Step 6: Interpret the confidence interval.\n",
    "With 95% confidence, we estimate that the true proportion of people who are satisfied with their job falls within the interval of 0.60824 to 0.69176.\n",
    "\n",
    "Therefore, we can say that we are 95% confident that the true proportion of people who are satisfied with their job is between 60.824% and 69.176%."
   ]
  },
  {
   "cell_type": "markdown",
   "id": "d244af4d",
   "metadata": {},
   "source": [
    "### Q12. A researcher is testing the effectiveness of two different teaching methods on student performance. Sample A has a mean score of 85 with a standard deviation of 6, while sample B has a mean score of 82 with a standard deviation of 5. Conduct a hypothesis test to determine if the two teaching methods have a significant difference in student performance using a t-test with a significance level of 0.01."
   ]
  },
  {
   "cell_type": "markdown",
   "id": "3e17c9bd",
   "metadata": {},
   "source": [
    "**Ans:** To conduct a hypothesis test to determine if the two teaching methods have a significant difference in student performance using a t-test with a significance level of 0.01, we can follow these steps:\n",
    "\n",
    "Step 1: State the null and alternative hypotheses.\n",
    "The null hypothesis (H0): The two teaching methods have no significant difference in student performance (mean A = mean B).\n",
    "The alternative hypothesis (Ha): The two teaching methods have a significant difference in student performance (mean A ≠ mean B).\n",
    "\n",
    "Step 2: Set the significance level (α).\n",
    "In this case, the significance level is given as 0.01, which means we want to be 99% confident in our result.\n",
    "\n",
    "Step 3: Formulate the test statistic.\n",
    "The test statistic for a two-sample t-test is calculated as follows:\n",
    "t = (mean A - mean B) / sqrt((s1^2 / n) + (s2^2 / n))\n",
    "\n",
    "Step 4: Calculate the test statistic.\n",
    "In this case, the mean score for sample A is 85, the mean score for sample B is 82, the standard deviation for sample A is 6, the standard deviation for sample B is 5, and the sample size for both samples is 500. Plugging these values into the formula, we get:\n",
    "t = (85 - 82) / sqrt((6^2 / 500) + (5^2 / 500))\n",
    "   = 3 / sqrt((36 / 500) + (25 / 500))\n",
    "   = 3 / sqrt(0.072 + 0.05)\n",
    "   = 3 / sqrt(0.122)\n",
    "   ≈ 3 / 0.349\n",
    "   ≈ 8.60\n",
    "\n",
    "Step 5: Determine the critical value.\n",
    "Since this is a two-tailed test, we need to find the critical values at the corresponding percentiles in the t-distribution. With a significance level of 0.01 and degrees of freedom equal to the sum of the sample sizes minus 2 (df = 500 + 500 - 2 = 998), the critical values for a two-tailed test are approximately -2.576 and 2.576.\n",
    "\n",
    "Step 6: Make a decision.\n",
    "If the absolute value of the test statistic is greater than the critical value, we reject the null hypothesis. Otherwise, if the absolute value of the test statistic is not greater than the critical value, we fail to reject the null hypothesis.\n",
    "\n",
    "In this case, the absolute value of the test statistic (8.60) is greater than the critical value (2.576). Therefore, we reject the null hypothesis.\n",
    "\n",
    "Step 7: Draw a conclusion.\n",
    "Based on the sample data and the hypothesis test, there is sufficient evidence to conclude that the two teaching methods have a significant difference in student performance at a significance level of 0.01."
   ]
  },
  {
   "cell_type": "markdown",
   "id": "7403b587",
   "metadata": {},
   "source": [
    "### Q13. A population has a mean of 60 and a standard deviation of 8. A sample of 50 observations has a mean of 65. Calculate the 90% confidence interval for the true population mean.\n"
   ]
  },
  {
   "cell_type": "code",
   "execution_count": 26,
   "id": "2035201a",
   "metadata": {},
   "outputs": [
    {
     "name": "stdout",
     "output_type": "stream",
     "text": [
      "The 95% confidence interval indicates that we can be 95% confident that the true population mean lies between 63.133238097667515 and 66.86676190233248.\n"
     ]
    }
   ],
   "source": [
    "import numpy as np\n",
    "\n",
    "alpha = 0.10\n",
    "CI = 0.90\n",
    "sample_mean = 65\n",
    "population_std = 8\n",
    "sample_size = 50\n",
    "\n",
    "Margin_of_Error = 1.65 * (population_std/np.sqrt(sample_size))\n",
    "\n",
    "lower_CI = sample_mean - Margin_of_Error\n",
    "upper_CI = sample_mean + Margin_of_Error\n",
    "\n",
    "print(f\"The 95% confidence interval indicates that we can be 95% confident that the true population mean lies between {lower_CI} and {upper_CI}.\")"
   ]
  },
  {
   "cell_type": "markdown",
   "id": "4842d855",
   "metadata": {},
   "source": [
    "### Q14. In a study of the effects of caffeine on reaction time, a sample of 30 participants had an average reaction time of 0.25 seconds with a standard deviation of 0.05 seconds. Conduct a hypothesis test to determine if the caffeine has a significant effect on reaction time at a 90% confidence level using a t-test."
   ]
  },
  {
   "cell_type": "markdown",
   "id": "92819c61",
   "metadata": {},
   "source": [
    "**Ans:** To conduct a hypothesis test to determine if caffeine has a significant effect on reaction time at a 90% confidence level using a t-test, we can follow these steps:\n",
    "\n",
    "Step 1: State the null and alternative hypotheses.\n",
    "The null hypothesis (H0): Caffeine has no significant effect on reaction time (mean reaction time = 0).\n",
    "The alternative hypothesis (Ha): Caffeine has a significant effect on reaction time (mean reaction time ≠ 0).\n",
    "\n",
    "Step 2: Set the significance level (α).\n",
    "In this case, the significance level is 0.1 (equivalent to a 90% confidence level).\n",
    "\n",
    "Step 3: Formulate the test statistic.\n",
    "The test statistic for a one-sample t-test is calculated as follows:\n",
    "t = (sample mean - null hypothesis value) / (sample standard deviation / sqrt(sample size))\n",
    "\n",
    "Step 4: Calculate the test statistic.\n",
    "In this case, the sample mean is 0.25 seconds, the null hypothesis value is 0 seconds, the sample standard deviation is 0.05 seconds, and the sample size is 30. Plugging these values into the formula, we get:\n",
    "t = (0.25 - 0) / (0.05 / sqrt(30))\n",
    "   = 0.25 / (0.05 / sqrt(30))\n",
    "   = 0.25 / (0.05 / 5.48)\n",
    "   ≈ 27.38\n",
    "\n",
    "Step 5: Determine the critical value.\n",
    "Since this is a two-tailed test, we need to find the critical values at the corresponding percentiles in the t-distribution. With a significance level of 0.1 and degrees of freedom equal to the sample size minus 1 (df = 30 - 1 = 29), the critical values for a two-tailed test are approximately -2.756 and 2.756.\n",
    "\n",
    "Step 6: Make a decision.\n",
    "If the absolute value of the test statistic is greater than the critical value, we reject the null hypothesis. Otherwise, if the absolute value of the test statistic is not greater than the critical value, we fail to reject the null hypothesis.\n",
    "\n",
    "In this case, the absolute value of the test statistic () is not greater than the critical value (1.699). Therefore, we fail to reject the null hypothesis.\n",
    "\n",
    "Step 7: Draw a conclusion.\n",
    "Based on the sample data and the hypothesis test, there is not sufficient evidence to conclude that caffeine has a significant effect on reaction time at a 90% confidence level.\n",
    "\n",
    "Please note that the conclusion may change if different sample data is provided or if the significance level is adjusted."
   ]
  }
 ],
 "metadata": {
  "kernelspec": {
   "display_name": "Python 3 (ipykernel)",
   "language": "python",
   "name": "python3"
  },
  "language_info": {
   "codemirror_mode": {
    "name": "ipython",
    "version": 3
   },
   "file_extension": ".py",
   "mimetype": "text/x-python",
   "name": "python",
   "nbconvert_exporter": "python",
   "pygments_lexer": "ipython3",
   "version": "3.9.13"
  }
 },
 "nbformat": 4,
 "nbformat_minor": 5
}
