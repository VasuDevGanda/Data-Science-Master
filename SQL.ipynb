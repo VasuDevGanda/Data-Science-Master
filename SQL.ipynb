{
 "cells": [
  {
   "cell_type": "markdown",
   "id": "e13a1cbf",
   "metadata": {},
   "source": [
    "## Assignment: SQL"
   ]
  },
  {
   "cell_type": "markdown",
   "id": "37c493b9",
   "metadata": {},
   "source": [
    "#### Q.1 What is a database? Differentiate between SQL and NoSQL databases."
   ]
  },
  {
   "cell_type": "markdown",
   "id": "d81d919d",
   "metadata": {},
   "source": [
    "**Ans:**\n",
    "A database is a structured collection of data that is organized, managed, and accessed electronically. It allows users to store, retrieve, and manipulate data efficiently. Databases are used in various applications, such as websites, business systems, scientific research, and more.\n",
    "\n",
    "\n",
    "\n",
    "|                   | SQL Databases                                                    | NoSQL Databases                                                                 |\n",
    "|-------------------|------------------------------------------------------------------|---------------------------------------------------------------------------------|\n",
    "| Data Model        | Follows a rigid, predefined schema with tables, rows, and columns | Offers a flexible and dynamic schema, allowing for unstructured and semi-structured data |\n",
    "| Query Language    | Uses Structured Query Language (SQL) for data manipulation        | Utilizes various query languages specific to the database or offers APIs/interfaces |\n",
    "| Schema            | Enforces a predefined schema, ensuring data consistency           | Allows for schema flexibility and easy adaptation to evolving data requirements    |\n",
    "| Scalability       | Vertical scaling (adding more resources to a single server)       | Horizontal scaling (distributed across multiple servers or clusters)              |\n",
    "| Performance       | Well-suited for complex queries and joins                          | Designed for high-performance, handling large read and write loads                 |\n",
    "| Transactions      | Supports ACID (Atomicity, Consistency, Isolation, Durability)     | Offers eventual consistency and tradeoffs between consistency and scalability     |\n",
    "| Examples          | MySQL, PostgreSQL, Oracle Database, Microsoft SQL Server          | MongoDB, Cassandra, Couchbase, Redis                                               |\n",
    "\n",
    "\n"
   ]
  },
  {
   "cell_type": "markdown",
   "id": "397723f6",
   "metadata": {},
   "source": [
    "#### Q.2 What is DDL? Explain why CREATE, DROP, ALTER, and TRUNCATE are used with an example."
   ]
  },
  {
   "cell_type": "markdown",
   "id": "020d3ee4",
   "metadata": {},
   "source": [
    "**Ans:** \n",
    "DDL stands for Data Definition Language. It is a subset of SQL (Structured Query Language) used to define and manage the structure of a database. DDL statements are responsible for creating, modifying, and deleting database objects such as tables, indexes, views, and constraints.\n",
    "\n",
    "Here's an explanation of four commonly used DDL statements along with examples:\n",
    "\n",
    "1. **CREATE**: The CREATE statement is used to create new database objects, such as tables, indexes, views, or procedures. It defines the structure and initial properties of the object.\n",
    "\n",
    "   Example: Creating a table named \"Employees\" with columns for employee ID, name, and salary:\n",
    "   \n",
    "   ```sql\n",
    "   CREATE TABLE Employees (\n",
    "       EmployeeID INT,\n",
    "       Name VARCHAR(50),\n",
    "       Salary DECIMAL(10, 2)\n",
    "   );\n",
    "   ```\n",
    "\n",
    "2. **DROP**: The DROP statement is used to remove database objects from the database. It permanently deletes the object and its associated data.\n",
    "\n",
    "   Example: Dropping the \"Employees\" table:\n",
    "   \n",
    "   ```sql\n",
    "   DROP TABLE Employees;\n",
    "   ```\n",
    "\n",
    "3. **ALTER**: The ALTER statement is used to modify the structure of an existing database object. It can be used to add, modify, or delete columns, constraints, or other properties of the object.\n",
    "\n",
    "   Example: Adding a new column \"Email\" to the \"Employees\" table:\n",
    "   \n",
    "   ```sql\n",
    "   ALTER TABLE Employees\n",
    "   ADD Email VARCHAR(100);\n",
    "   ```\n",
    "\n",
    "4. **TRUNCATE**: The TRUNCATE statement is used to remove all data from a table while keeping its structure intact. Unlike the DROP statement, TRUNCATE only removes data, not the table itself.\n",
    "\n",
    "   Example: Truncating the \"Employees\" table:\n",
    "   \n",
    "   ```sql\n",
    "   TRUNCATE TABLE Employees;\n",
    "   ```\n",
    "\n",
    "These DDL statements are powerful tools for managing the structure and organization of a database. They allow database administrators and developers to create and modify tables, indexes, and other objects to suit the evolving needs of an application or system."
   ]
  },
  {
   "cell_type": "markdown",
   "id": "f8447ab4",
   "metadata": {},
   "source": [
    "#### Q.3 What is DML? Explain INSERT, UPDATE, and DELETE with an example."
   ]
  },
  {
   "cell_type": "markdown",
   "id": "13b1e1b2",
   "metadata": {},
   "source": [
    "**Ans:**\n",
    "DML stands for Data Manipulation Language. It is a subset of SQL (Structured Query Language) used to retrieve, insert, update, and delete data within a database. DML statements are responsible for modifying the data stored in the database tables.\n",
    "\n",
    "Here's an explanation of three commonly used DML statements along with examples:\n",
    "\n",
    "1. **INSERT**: The INSERT statement is used to add new records or rows into a table. It allows you to specify the values to be inserted into the columns of the table.\n",
    "\n",
    "   Example: Inserting a new record into the \"Employees\" table with values for the \"EmployeeID,\" \"Name,\" and \"Salary\" columns:\n",
    "   \n",
    "   ```sql\n",
    "   INSERT INTO Employees (EmployeeID, Name, Salary)\n",
    "   VALUES (1, 'John Doe', 5000);\n",
    "   ```\n",
    "\n",
    "2. **UPDATE**: The UPDATE statement is used to modify existing records in a table. It allows you to change the values of one or more columns for specific rows based on certain conditions.\n",
    "\n",
    "   Example: Updating the salary of an employee with the \"EmployeeID\" of 1 in the \"Employees\" table:\n",
    "   \n",
    "   ```sql\n",
    "   UPDATE Employees\n",
    "   SET Salary = 6000\n",
    "   WHERE EmployeeID = 1;\n",
    "   ```\n",
    "\n",
    "3. **DELETE**: The DELETE statement is used to remove one or more records from a table. It allows you to specify conditions to identify the rows to be deleted.\n",
    "\n",
    "   Example: Deleting all employees with a salary less than 3000 from the \"Employees\" table:\n",
    "   \n",
    "   ```sql\n",
    "   DELETE FROM Employees\n",
    "   WHERE Salary < 3000;\n",
    "   ```\n"
   ]
  },
  {
   "cell_type": "markdown",
   "id": "f59f26b8",
   "metadata": {},
   "source": [
    "#### Q.4 What is DQL? Explain SELECT with an example."
   ]
  },
  {
   "cell_type": "markdown",
   "id": "21b13a47",
   "metadata": {},
   "source": [
    "**Ans:**\n",
    "DQL stands for Data Query Language. It is a subset of SQL (Structured Query Language) used for querying and retrieving data from a database. DQL focuses on retrieving specific information from one or more tables based on certain conditions.\n",
    "\n",
    "The most commonly used DQL statement is **SELECT**. It allows you to retrieve data from one or more tables, specify filtering conditions, define the columns to be included in the result set, and perform various operations like sorting and grouping.\n",
    "\n",
    "Here's an example of the SELECT statement:\n",
    "\n",
    "Consider a table named \"Employees\" with columns \"EmployeeID,\" \"Name,\" \"Department,\" and \"Salary.\" To retrieve the names and salaries of employees who belong to the \"Finance\" department, you can use the SELECT statement as follows:\n",
    "\n",
    "```sql\n",
    "SELECT Name, Salary\n",
    "FROM Employees\n",
    "WHERE Department = 'Finance';\n",
    "```\n",
    "\n",
    "The result of the above query will be a list of names and salaries of employees who belong to the Finance department.\n"
   ]
  },
  {
   "cell_type": "markdown",
   "id": "52bf62d3",
   "metadata": {},
   "source": [
    "#### Q.5 Explain Primary Key and Foreign Key."
   ]
  },
  {
   "cell_type": "markdown",
   "id": "3a3d2363",
   "metadata": {},
   "source": [
    "**Ans:**\n",
    "**Primary Key:** A primary key is a column or a set of columns in a database table that uniquely identifies each record. It ensures uniqueness, non-null values, and provides efficient data retrieval.\n",
    "\n",
    "**Foreign Key:** A foreign key is a column or a set of columns in a database table that establishes a link or relationship between two tables. It references the primary key of another table, creating a link between the two tables, enforcing data integrity, and maintaining referential integrity."
   ]
  },
  {
   "cell_type": "markdown",
   "id": "b20579cb",
   "metadata": {},
   "source": [
    "#### Q.6 Write a python code to connect MySQL to python. Explain the cursor() and execute() method."
   ]
  },
  {
   "cell_type": "code",
   "execution_count": null,
   "id": "44e31d73",
   "metadata": {},
   "outputs": [],
   "source": [
    "import mysql.connector\n",
    "mydb = mysql.connector.connect(\n",
    "  host=\"localhost\",\n",
    "  user=\"abc\",\n",
    "  password=\"password\"\n",
    ")\n",
    "print(mydb)\n",
    "mycursor = mydb.cursor()\n",
    "mycursor.execute(\"CREATE DATABASE if not exists test1\")\n",
    "mydb.close()"
   ]
  },
  {
   "cell_type": "markdown",
   "id": "588001a3",
   "metadata": {},
   "source": [
    "- **cursor()**: The `cursor()` method is used to create a cursor object in Python. The cursor object allows you to execute SQL queries and fetch the results. It serves as a control structure to interact with the database. Once the cursor object is created, you can use its methods to execute SQL statements, retrieve data, and perform other database operations.\n",
    "\n",
    "- **execute()**: The `execute()` method is used to execute an SQL statement or query. It takes the SQL statement as a parameter and sends it to the database for execution. This method allows you to perform various database operations such as retrieving data, modifying data, creating database objects, and more. It returns the result of the executed statement, which can be fetched using other cursor methods. The `execute()` method is essential for executing SQL statements and interacting with the database using Python."
   ]
  },
  {
   "cell_type": "markdown",
   "id": "c6f20e61",
   "metadata": {},
   "source": [
    "#### Q.7 Give the order of execution of SQL clauses in an SQL query."
   ]
  },
  {
   "cell_type": "markdown",
   "id": "02064f53",
   "metadata": {},
   "source": [
    "**Ans:**\n",
    "In an SQL query, the clauses are typically executed in the following order:\n",
    "\n",
    "1. **FROM**: Specifies the table or tables from which the data will be retrieved.\n",
    "\n",
    "2. **JOIN**: Performs any necessary table joins to combine data from multiple tables.\n",
    "\n",
    "3. **WHERE**: Filters the rows based on specified conditions.\n",
    "\n",
    "4. **GROUP BY**: Groups the rows based on specified columns.\n",
    "\n",
    "5. **HAVING**: Filters the groups based on specified conditions.\n",
    "\n",
    "6. **SELECT**: Specifies the columns to be included in the result set.\n",
    "\n",
    "7. **DISTINCT**: Removes duplicates from the result set if specified.\n",
    "\n",
    "8. **ORDER BY**: Sorts the result set based on specified columns and sort order.\n",
    "\n",
    "9. **LIMIT / OFFSET**: Specifies the number of rows to be returned or the starting position of the result set.\n"
   ]
  }
 ],
 "metadata": {
  "kernelspec": {
   "display_name": "Python 3 (ipykernel)",
   "language": "python",
   "name": "python3"
  },
  "language_info": {
   "codemirror_mode": {
    "name": "ipython",
    "version": 3
   },
   "file_extension": ".py",
   "mimetype": "text/x-python",
   "name": "python",
   "nbconvert_exporter": "python",
   "pygments_lexer": "ipython3",
   "version": "3.9.13"
  }
 },
 "nbformat": 4,
 "nbformat_minor": 5
}
