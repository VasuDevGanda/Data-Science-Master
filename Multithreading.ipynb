{
 "cells": [
  {
   "cell_type": "markdown",
   "id": "f406b217",
   "metadata": {},
   "source": [
    "## Assignment: Multithreading"
   ]
  },
  {
   "cell_type": "markdown",
   "id": "36170a03",
   "metadata": {},
   "source": [
    "#### Q1. What is multithreading in python? Why is it used? Name the module used to handle threads in python."
   ]
  },
  {
   "cell_type": "markdown",
   "id": "e3ed396b",
   "metadata": {},
   "source": [
    "**Ans**\n",
    "\n",
    "**Multithreaading :** Multithreading is a programming technique that enables concurrent execution of multiple threads within a single process. A thread can be thought of as an independent sequence of instructions that can be scheduled and executed by a processor. By utilizing multiple threads, a program can perform multiple tasks simultaneously, potentially improving performance and responsiveness.\n",
    "\n",
    "Multithreading is used to improve the performance and responsiveness of programs by enabling concurrent execution of multiple tasks. It allows for parallelism, where tasks can be divided into smaller units that can be executed independently, potentially leading to faster execution. Multithreading is particularly useful in scenarios involving computationally intensive or I/O-bound tasks, as it maximizes processor utilization and can help prevent tasks from blocking each other.\n",
    "\n",
    "In python the **\"Threading\"** module is used to handle threads."
   ]
  },
  {
   "cell_type": "markdown",
   "id": "79a8c101",
   "metadata": {},
   "source": [
    "#### Q2. Why threading module used? Write the use of the following functions:\n",
    "**1. activeCount()\n",
    "2. currentThread()\n",
    "3. eumerate()**"
   ]
  },
  {
   "cell_type": "markdown",
   "id": "ea06b45c",
   "metadata": {},
   "source": [
    "**Ans:** The threading module in Python is used to implement multithreading, allowing for concurrent execution of tasks within a program. It provides a high-level interface for creating and managing threads, making it easier to write multithreaded applications.\n",
    "\n",
    "**1. activeCount() :** It is used in the threading module to retrieve the number of currently active Thread objects in a program. It returns an integer representing the total count of active threads. This function is helpful for monitoring and managing the concurrency of threads in a multithreaded application.\n",
    "\n",
    "**2. currentThread() :** The currentThread() function returns a reference to the currently executing Thread object. It is commonly used to access and manipulate properties and methods associated with the current thread. By calling currentThread(), you can obtain information such as the thread's name, ID, or other attributes, which can be useful for debugging or controlling thread behavior within a program.\n",
    "\n",
    "**3. enumerate() :** The enumerate() function returns a list of all active Thread objects currently running in a program. It allows you to obtain a snapshot of all running threads, including the main thread and any additional threads created. This function is often used for monitoring and managing threads, such as checking the state, ID, or other properties of each thread in the list returned by enumerate(). It provides a convenient way to gather information about the active threads in a multithreaded application."
   ]
  },
  {
   "cell_type": "markdown",
   "id": "9ee0e8d3",
   "metadata": {},
   "source": [
    "#### Q3. Explain the following functions:\n",
    "**1. run() 2. start() 3. join() 4. isAlive()**"
   ]
  },
  {
   "cell_type": "markdown",
   "id": "d3fd6216",
   "metadata": {},
   "source": [
    "**Ans:** \n",
    "1. `run()`: The `run()` function is a method defined in the `Thread` class of the threading module. It represents the entry point for the code that will be executed in a separate thread. By subclassing the `Thread` class and overriding the `run()` method, you can define the specific instructions that should be executed when the thread starts. The `run()` method is called internally by the `start()` method to initiate the thread's execution.\n",
    "\n",
    "2. `start()`: The `start()` function is used to begin the execution of a thread. It creates a new thread of control and calls the `run()` method of the thread. The `start()` method allows the thread to be scheduled and run concurrently with other threads in the program. Once `start()` is called, the thread transitions from the \"new\" state to the \"runnable\" state, and the operating system takes care of managing the execution of the thread.\n",
    "\n",
    "3. `join()`: The `join()` function is used to wait for the completion of a thread. When you call `join()` on a thread, the calling thread will pause and wait until the target thread terminates. This is useful when you want to synchronize the execution of multiple threads and ensure that certain operations occur only after a specific thread has finished its execution. By using `join()`, you can control the order and synchronization of threads in your program.\n",
    "\n",
    "4. `isAlive()`: The `isAlive()` function is used to check whether a thread is currently executing or not. It returns `True` if the thread is still active (i.e., it has started but has not yet finished executing), and `False` otherwise. This function allows you to query the status of a thread and make decisions based on its current state. It is often used in scenarios where you want to check the progress of a thread or determine if it has completed its task before performing further actions."
   ]
  },
  {
   "cell_type": "markdown",
   "id": "64d36561",
   "metadata": {},
   "source": [
    "#### Q4. Write a python program to create two threads. Thread one must print the list of squares and thread two must print the list of cubes."
   ]
  },
  {
   "cell_type": "code",
   "execution_count": 8,
   "id": "e2913393",
   "metadata": {},
   "outputs": [
    {
     "name": "stdout",
     "output_type": "stream",
     "text": [
      "Square of 1 is 1\n",
      "Square of 2 is 4\n",
      "Square of 3 is 9\n",
      "Square of 4 is 16\n",
      "Square of 5 is 25\n",
      "Square of 6 is 36\n",
      "Square of 7 is 49\n",
      "Square of 8 is 64\n",
      "Square of 9 is 81\n",
      "Square of 10 is 100\n",
      "Cube of 1 is 1\n",
      "Cube of 2 is 8\n",
      "Cube of 3 is 27\n",
      "Cube of 4 is 64\n",
      "Cube of 5 is 125\n",
      "Cube of 6 is 216\n",
      "Cube of 7 is 343\n",
      "Cube of 8 is 512\n",
      "Cube of 9 is 729\n",
      "Cube of 10 is 1000\n"
     ]
    }
   ],
   "source": [
    "import threading\n",
    "\n",
    "def square():\n",
    "    for i in range(1,11):\n",
    "        print(f\"Square of {i} is {i*i}\")\n",
    "        \n",
    "def cube():\n",
    "    for i in range(1,11):\n",
    "        print(f\"Cube of {i} is {i*i*i}\")\n",
    "        \n",
    "Thread1 = [threading.Thread(target = square)]\n",
    "Thread2 = [threading.Thread(target = cube)]\n",
    "\n",
    "for t in Thread1:\n",
    "    t.start()\n",
    "    \n",
    "for t in Thread2:\n",
    "    t.start()"
   ]
  },
  {
   "cell_type": "markdown",
   "id": "9a3f1a19",
   "metadata": {},
   "source": [
    "#### Q5. State advantages and disadvantages of multithreading."
   ]
  },
  {
   "cell_type": "markdown",
   "id": "d6ecf4cb",
   "metadata": {},
   "source": [
    "**Ans :** \n",
    "Advantages of Multithreading:\n",
    "\n",
    "1. Improved performance by utilizing parallelism and taking advantage of multi-core processors.\n",
    "2. Enhanced responsiveness by allowing tasks to run concurrently while the main thread remains responsive.\n",
    "3. Efficient resource sharing and communication between threads within a process.\n",
    "\n",
    "Disadvantages of Multithreading:\n",
    "\n",
    "1. Increased complexity and potential for bugs due to the need for proper synchronization and handling of shared resources.\n",
    "2. Difficulty in debugging and identifying issues, as race conditions and deadlocks can occur.\n",
    "3. Potential for decreased performance if threads contend for shared resources or require frequent synchronization.\n",
    "4. Limited scalability in certain cases, as the overhead of managing multiple threads may outweigh the benefits."
   ]
  },
  {
   "cell_type": "markdown",
   "id": "41389ab9",
   "metadata": {},
   "source": [
    "#### Q6. Explain deadlocks and race conditions."
   ]
  },
  {
   "cell_type": "markdown",
   "id": "1d1f3aa2",
   "metadata": {},
   "source": [
    "**Ans:**\n",
    "**Deadlock:**\n",
    "Deadlock is a situation that occurs in concurrent programming when two or more threads are blocked forever, waiting for each other to release resources. It happens when each thread holds a resource that another thread needs to proceed, resulting in a circular dependency. As a result, all threads are unable to make progress, leading to a program freeze. Deadlocks are often caused by improper resource allocation and lack of proper synchronization mechanisms.\n",
    "\n",
    "**Race Condition:**\n",
    "A race condition is a situation in concurrent programming where the behavior of a program depends on the relative timing or interleaving of multiple threads. It arises when multiple threads access and manipulate shared data concurrently without proper synchronization. The outcome becomes unpredictable and may lead to incorrect results or program crashes. Race conditions can occur when threads read and modify shared data simultaneously, resulting in inconsistent or unexpected behavior. Proper synchronization techniques, such as locks or semaphores, are required to prevent race conditions and ensure the integrity of shared data."
   ]
  }
 ],
 "metadata": {
  "kernelspec": {
   "display_name": "Python 3 (ipykernel)",
   "language": "python",
   "name": "python3"
  },
  "language_info": {
   "codemirror_mode": {
    "name": "ipython",
    "version": 3
   },
   "file_extension": ".py",
   "mimetype": "text/x-python",
   "name": "python",
   "nbconvert_exporter": "python",
   "pygments_lexer": "ipython3",
   "version": "3.9.13"
  }
 },
 "nbformat": 4,
 "nbformat_minor": 5
}
