{
 "cells": [
  {
   "cell_type": "markdown",
   "id": "41e49560",
   "metadata": {},
   "source": [
    "#### Q1. Which function is used to open a file? What are the different modes of opening a file? Explain each mode of file opening. "
   ]
  },
  {
   "cell_type": "markdown",
   "id": "b277fe43",
   "metadata": {},
   "source": [
    "##### Ans:\n",
    "The open() function is used to open a file in python.\n",
    "###### The following are the different modes of opening a file:\n",
    "* 'r' : open for reading (default)\n",
    "* 'w' : open for writing, truncating the file first\n",
    "* 'x' : create a new file and open it for writing\n",
    "* 'a' : open for writing, appending to the end of the file if it exists\n",
    "* 'b' : binary mode\n",
    "* 't' : text mode (default)\n",
    "* '+' : open a disk file for updating (reading and writing)\n",
    "* 'U' : universal newline mode (deprecated)"
   ]
  },
  {
   "cell_type": "markdown",
   "id": "05206b8c",
   "metadata": {},
   "source": [
    "#### Q2. Why close() function is used? Why is it important to close a file?"
   ]
  },
  {
   "cell_type": "markdown",
   "id": "0a6fd7d5",
   "metadata": {},
   "source": [
    "##### Ans:\n",
    "Close() function is used to close a file.\n",
    "It is important to close a file because the changes made to a file may not show until you close the file."
   ]
  },
  {
   "cell_type": "markdown",
   "id": "c53bb0db",
   "metadata": {},
   "source": [
    "####  Q3. Write a python program to create a text file. Write ‘I want to become a Data Scientist’ in that file. Then close the file. Open this file and read the content of the file."
   ]
  },
  {
   "cell_type": "code",
   "execution_count": 1,
   "id": "0975e492",
   "metadata": {},
   "outputs": [],
   "source": [
    "f = open(\"feb_10_ass.txt\",\"w\")"
   ]
  },
  {
   "cell_type": "code",
   "execution_count": 2,
   "id": "7926f408",
   "metadata": {},
   "outputs": [
    {
     "data": {
      "text/plain": [
       "33"
      ]
     },
     "execution_count": 2,
     "metadata": {},
     "output_type": "execute_result"
    }
   ],
   "source": [
    "f.write(\"I want to become a Data Scientist\")"
   ]
  },
  {
   "cell_type": "code",
   "execution_count": 3,
   "id": "5e140cf2",
   "metadata": {},
   "outputs": [],
   "source": [
    "f.close()"
   ]
  },
  {
   "cell_type": "code",
   "execution_count": 4,
   "id": "2d3ef36e",
   "metadata": {},
   "outputs": [],
   "source": [
    "f = open(\"feb_10_ass.txt\",\"r\")"
   ]
  },
  {
   "cell_type": "code",
   "execution_count": 5,
   "id": "faf518bf",
   "metadata": {},
   "outputs": [
    {
     "data": {
      "text/plain": [
       "'I want to become a Data Scientist'"
      ]
     },
     "execution_count": 5,
     "metadata": {},
     "output_type": "execute_result"
    }
   ],
   "source": [
    "f.read()"
   ]
  },
  {
   "cell_type": "code",
   "execution_count": 6,
   "id": "0e16a45b",
   "metadata": {},
   "outputs": [],
   "source": [
    "f.close()"
   ]
  },
  {
   "cell_type": "markdown",
   "id": "4b00230a",
   "metadata": {},
   "source": [
    "####  Q4. Explain the following with python code: read(), readline() and readlines()."
   ]
  },
  {
   "cell_type": "code",
   "execution_count": 21,
   "id": "3baab31d",
   "metadata": {},
   "outputs": [],
   "source": [
    "f = open(\"file.txt\",\"w\")\n",
    "f.write(\"Line 1 \\nLine 2 \\nLine 3\")\n",
    "f.close()"
   ]
  },
  {
   "cell_type": "markdown",
   "id": "fe844155",
   "metadata": {},
   "source": [
    "* **read()** : The read method reads the entire contents of a file and returns it as a string. "
   ]
  },
  {
   "cell_type": "code",
   "execution_count": 22,
   "id": "8a52b3a7",
   "metadata": {},
   "outputs": [
    {
     "name": "stdout",
     "output_type": "stream",
     "text": [
      "Line 1 \n",
      "Line 2 \n",
      "Line 3\n"
     ]
    }
   ],
   "source": [
    "with open(\"file.txt\", \"r\") as file:\n",
    "    content = file.read()\n",
    "    print(content)"
   ]
  },
  {
   "cell_type": "markdown",
   "id": "09fcbf61",
   "metadata": {},
   "source": [
    "* **readline()** : The readline method reads a single line from a file and returns it as a string. This means that if you use readline, you can read the contents of a file line by line, which can be useful for processing large files that do not fit in memory. "
   ]
  },
  {
   "cell_type": "code",
   "execution_count": 25,
   "id": "433fc8a4",
   "metadata": {},
   "outputs": [
    {
     "name": "stdout",
     "output_type": "stream",
     "text": [
      "Line 1 \n",
      "\n",
      "Line 1\n",
      "Line 2\n",
      "Line 3\n"
     ]
    }
   ],
   "source": [
    "with open(\"file.txt\", \"r\") as file:\n",
    "    line = file.readline()\n",
    "    print(line)"
   ]
  },
  {
   "cell_type": "markdown",
   "id": "8202e56c",
   "metadata": {},
   "source": [
    "* **readlines()** : The readlines method reads the entire contents of a file and returns it as a list of strings, where each element of the list is a single line of the file. "
   ]
  },
  {
   "cell_type": "code",
   "execution_count": 26,
   "id": "a769117d",
   "metadata": {},
   "outputs": [
    {
     "name": "stdout",
     "output_type": "stream",
     "text": [
      "['Line 1 \\n', 'Line 2 \\n', 'Line 3']\n"
     ]
    }
   ],
   "source": [
    "with open(\"file.txt\") as f:\n",
    "    lines = f.readlines()\n",
    "    print(lines) "
   ]
  },
  {
   "cell_type": "markdown",
   "id": "7c150ba4",
   "metadata": {},
   "source": [
    "#### Q5. Explain why with statement is used with open(). What is the advantage of using with statement and open() together?"
   ]
  },
  {
   "cell_type": "markdown",
   "id": "e3c02049",
   "metadata": {},
   "source": [
    "##### Ans:\n",
    "'with' statement is used with open() because when we use 'with' statement with open function then we do not need to close the file at the end, because 'with' would automatically close it for us. So, if we talk about its advantage then it helps to prevent getting an in error in case, we forgot to close a file.\n",
    "\n"
   ]
  },
  {
   "cell_type": "markdown",
   "id": "cd975e4d",
   "metadata": {},
   "source": [
    "#### Q6. Explain the write() and writelines() functions. Give a suitable example."
   ]
  },
  {
   "cell_type": "markdown",
   "id": "fe4532c6",
   "metadata": {},
   "source": [
    "* **write()** : The write() function will write the content in the file without adding any extra characters."
   ]
  },
  {
   "cell_type": "code",
   "execution_count": 38,
   "id": "bd5a78cd",
   "metadata": {},
   "outputs": [],
   "source": [
    "with open(\"file.txt\",\"w\") as f:\n",
    "    f.write(\"ABCD\")"
   ]
  },
  {
   "cell_type": "code",
   "execution_count": 39,
   "id": "94f4c1cb",
   "metadata": {},
   "outputs": [
    {
     "name": "stdout",
     "output_type": "stream",
     "text": [
      "ABCD\n"
     ]
    }
   ],
   "source": [
    "with open(\"file.txt\") as f:\n",
    "    l = f.read()\n",
    "    print(l)"
   ]
  },
  {
   "cell_type": "markdown",
   "id": "13ef961e",
   "metadata": {},
   "source": [
    "* **writelines()** :  This function writes the content of a list to a file."
   ]
  },
  {
   "cell_type": "code",
   "execution_count": 40,
   "id": "62d253e1",
   "metadata": {},
   "outputs": [],
   "source": [
    "lst = [\"vasu\",\" akki\"]\n",
    "with open(\"file.txt\",\"w\") as f:\n",
    "    f.writelines(lst)"
   ]
  },
  {
   "cell_type": "code",
   "execution_count": 41,
   "id": "77ceb4eb",
   "metadata": {},
   "outputs": [
    {
     "name": "stdout",
     "output_type": "stream",
     "text": [
      "vasu akki\n"
     ]
    }
   ],
   "source": [
    "with open(\"file.txt\") as f:\n",
    "    l = f.read()\n",
    "    print(l)"
   ]
  }
 ],
 "metadata": {
  "kernelspec": {
   "display_name": "Python 3 (ipykernel)",
   "language": "python",
   "name": "python3"
  },
  "language_info": {
   "codemirror_mode": {
    "name": "ipython",
    "version": 3
   },
   "file_extension": ".py",
   "mimetype": "text/x-python",
   "name": "python",
   "nbconvert_exporter": "python",
   "pygments_lexer": "ipython3",
   "version": "3.9.13"
  }
 },
 "nbformat": 4,
 "nbformat_minor": 5
}
