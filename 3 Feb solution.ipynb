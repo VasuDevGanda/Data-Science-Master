{
 "cells": [
  {
   "cell_type": "markdown",
   "id": "6817e075",
   "metadata": {},
   "source": [
    "# Assignment"
   ]
  },
  {
   "cell_type": "markdown",
   "id": "7698b0a9",
   "metadata": {},
   "source": [
    "#### Q1. Which keyword is used to create a function? Create a function to return a list of odd numbers in the range of 1 to 25."
   ]
  },
  {
   "cell_type": "code",
   "execution_count": 4,
   "id": "bbe91cf6",
   "metadata": {},
   "outputs": [
    {
     "data": {
      "text/plain": [
       "[1, 3, 5, 7, 9, 11, 13, 15, 17, 19, 21, 23]"
      ]
     },
     "execution_count": 4,
     "metadata": {},
     "output_type": "execute_result"
    }
   ],
   "source": [
    "# \"def\" keyword is used to create a function.\n",
    "def ret_odd():\n",
    "    l=[]\n",
    "    for i in range(1,25):\n",
    "        if i%2 != 0:\n",
    "            l.append(i)\n",
    "    return l\n",
    "\n",
    "ret_odd()"
   ]
  },
  {
   "cell_type": "markdown",
   "id": "c677c190",
   "metadata": {},
   "source": [
    "#### Q2. Why * args and ** kwargs is used in some functions? Create a function each for * args and ** kwargs todemonstrate their use."
   ]
  },
  {
   "cell_type": "code",
   "execution_count": 11,
   "id": "f6b9e551",
   "metadata": {},
   "outputs": [
    {
     "name": "stdout",
     "output_type": "stream",
     "text": [
      "[1, 2, 4, 8]\n",
      "[1, 2, 3]\n"
     ]
    }
   ],
   "source": [
    "# *args s used to pass a variable number of arguments to a function.\n",
    "# Example\n",
    "\n",
    "def func1(*args):\n",
    "    l = []\n",
    "    for i in args:\n",
    "        if type(i) == int:\n",
    "            l.append(i)\n",
    "    return l\n",
    "\n",
    "print(func1(1,2,4,8,1.2,\"vasu\",[1,2])) #7 arguments\n",
    "print(func1(1,2,3,\"a\"))  #4 arguments"
   ]
  },
  {
   "cell_type": "code",
   "execution_count": 14,
   "id": "90981297",
   "metadata": {},
   "outputs": [
    {
     "name": "stdout",
     "output_type": "stream",
     "text": [
      "{'a': 10, 'b': 15, 'c': 'vasu'}\n",
      "<class 'dict'>\n",
      "dict_keys(['a', 'b', 'c'])\n",
      "dict_values([10, 15, 'vasu'])\n"
     ]
    }
   ],
   "source": [
    "# **kwargs is used to pass a keyworded, variable-length argument list.\n",
    "# Example\n",
    "\n",
    "def func2(**kwargs):\n",
    "    return kwargs\n",
    "\n",
    "l = func2(a=10,b=15,c =\"vasu\")\n",
    "print(l)\n",
    "print(type(l))\n",
    "print(l.keys())\n",
    "print(l.values())"
   ]
  },
  {
   "cell_type": "markdown",
   "id": "f227e0e3",
   "metadata": {},
   "source": [
    "#### Q3. What is an iterator in python? Name the method used to initialise the iterator object and the method used for iteration. Use these methods to print the first five elements of the given list [2, 4, 6, 8, 10, 12, 14, 16,18, 20]."
   ]
  },
  {
   "cell_type": "markdown",
   "id": "71de3fea",
   "metadata": {},
   "source": [
    "#### Ans\n",
    "* An iterator is an object that contains a countable number of values.\n",
    "* The iterator object is initialized using the iter() method. It uses the next() method for iteration."
   ]
  },
  {
   "cell_type": "code",
   "execution_count": 53,
   "id": "249b7ce5",
   "metadata": {},
   "outputs": [
    {
     "name": "stdout",
     "output_type": "stream",
     "text": [
      "2\n",
      "4\n",
      "6\n",
      "8\n",
      "10\n"
     ]
    }
   ],
   "source": [
    "l = [2, 4, 6, 8, 10, 12, 14, 16,18, 20]\n",
    "iteration = iter(l)\n",
    "for i in range(5):\n",
    "    print(next(iteration))"
   ]
  },
  {
   "cell_type": "markdown",
   "id": "62ec3297",
   "metadata": {},
   "source": [
    "#### Q5. Create a generator function for prime numbers less than 1000. Use the next() method to print the first 20 prime numbers."
   ]
  },
  {
   "cell_type": "code",
   "execution_count": 83,
   "id": "d6748b3a",
   "metadata": {},
   "outputs": [],
   "source": [
    "def prime_num():\n",
    "    n=2\n",
    "    while n < 1000:\n",
    "        for i in range(2,n):\n",
    "            if n%i == 0:\n",
    "                break\n",
    "        else:\n",
    "            yield n\n",
    "        n += 1"
   ]
  },
  {
   "cell_type": "code",
   "execution_count": 84,
   "id": "63314f34",
   "metadata": {},
   "outputs": [
    {
     "name": "stdout",
     "output_type": "stream",
     "text": [
      "2\n",
      "3\n",
      "5\n",
      "7\n",
      "11\n",
      "13\n",
      "17\n",
      "19\n",
      "23\n",
      "29\n",
      "31\n",
      "37\n",
      "41\n",
      "43\n",
      "47\n",
      "53\n",
      "59\n",
      "61\n",
      "67\n",
      "71\n"
     ]
    }
   ],
   "source": [
    "iteration = prime_num()\n",
    "for i in range(20):\n",
    "    print(next(iteration))"
   ]
  }
 ],
 "metadata": {
  "kernelspec": {
   "display_name": "Python 3 (ipykernel)",
   "language": "python",
   "name": "python3"
  },
  "language_info": {
   "codemirror_mode": {
    "name": "ipython",
    "version": 3
   },
   "file_extension": ".py",
   "mimetype": "text/x-python",
   "name": "python",
   "nbconvert_exporter": "python",
   "pygments_lexer": "ipython3",
   "version": "3.9.13"
  }
 },
 "nbformat": 4,
 "nbformat_minor": 5
}
