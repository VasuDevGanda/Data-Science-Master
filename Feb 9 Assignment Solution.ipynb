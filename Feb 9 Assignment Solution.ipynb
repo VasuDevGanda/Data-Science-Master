{
 "cells": [
  {
   "cell_type": "markdown",
   "id": "da2d0673",
   "metadata": {},
   "source": [
    "#### Q1, Create a vehicle class with an init method having instance variables as name_of_vehicle, max_speed and average_of_vehicle. "
   ]
  },
  {
   "cell_type": "code",
   "execution_count": 12,
   "id": "d1088329",
   "metadata": {},
   "outputs": [],
   "source": [
    "class vehicle:\n",
    "    \n",
    "    def __init__(self, name_of_vehicle, max_speed, average_of_vehicle):\n",
    "        self.name_of_vehicle = name_of_vehicle\n",
    "        self.max_speed = max_speed\n",
    "        self.average_of_vehicle = average_of_vehicle"
   ]
  },
  {
   "cell_type": "code",
   "execution_count": 13,
   "id": "92500481",
   "metadata": {},
   "outputs": [
    {
     "data": {
      "text/plain": [
       "'Platina'"
      ]
     },
     "execution_count": 13,
     "metadata": {},
     "output_type": "execute_result"
    }
   ],
   "source": [
    "obj = vehicle(\"Platina\", 120, \"60 km/hr\")\n",
    "obj.name_of_vehicle"
   ]
  },
  {
   "cell_type": "code",
   "execution_count": 14,
   "id": "d8d3ac31",
   "metadata": {},
   "outputs": [
    {
     "data": {
      "text/plain": [
       "120"
      ]
     },
     "execution_count": 14,
     "metadata": {},
     "output_type": "execute_result"
    }
   ],
   "source": [
    "obj.max_speed"
   ]
  },
  {
   "cell_type": "code",
   "execution_count": 15,
   "id": "f105ca02",
   "metadata": {},
   "outputs": [
    {
     "data": {
      "text/plain": [
       "'60 km/hr'"
      ]
     },
     "execution_count": 15,
     "metadata": {},
     "output_type": "execute_result"
    }
   ],
   "source": [
    "obj.average_of_vehicle"
   ]
  },
  {
   "cell_type": "markdown",
   "id": "4c1359b5",
   "metadata": {},
   "source": [
    "#### Q2. Create a child class car from the vehicle class created in Que 1, which will inherit the vehicle class. Create a method named seating_capacity which takes capacity as an argument and returns the name of the vehicle and its seating capacity."
   ]
  },
  {
   "cell_type": "code",
   "execution_count": 23,
   "id": "7e0707b0",
   "metadata": {},
   "outputs": [],
   "source": [
    "class car(vehicle):\n",
    "    \n",
    "    def seating_capacity(self, capacity):\n",
    "        self.seating_capacity = capacity\n",
    "        return self.name_of_vehicle, capacity"
   ]
  },
  {
   "cell_type": "code",
   "execution_count": 24,
   "id": "bd8822e9",
   "metadata": {},
   "outputs": [
    {
     "data": {
      "text/plain": [
       "('Platina', 120)"
      ]
     },
     "execution_count": 24,
     "metadata": {},
     "output_type": "execute_result"
    }
   ],
   "source": [
    "obj1 = car(\"Platina\", 120, \"60 km/hr\")\n",
    "obj1.seating_capacity(120)"
   ]
  },
  {
   "cell_type": "markdown",
   "id": "f7582bf7",
   "metadata": {},
   "source": [
    "#### Q3. What is multiple inheritance? Write a python code to demonstrate multiple inheritance."
   ]
  },
  {
   "cell_type": "markdown",
   "id": "93788353",
   "metadata": {},
   "source": [
    "###### Ans:\n",
    "When two or more than two child classes inherit from a single parent class, then it is known as multiple inheritance"
   ]
  },
  {
   "cell_type": "code",
   "execution_count": 30,
   "id": "4f3e6e63",
   "metadata": {},
   "outputs": [],
   "source": [
    "class parent:\n",
    "    def father(self):\n",
    "        return \"I am your Father\"\n",
    "    \n",
    "class son(parent):\n",
    "    def beta(self):\n",
    "        return \"I am your son Dad\"\n",
    "    \n",
    "class daughter(parent):\n",
    "    def girl(self):\n",
    "        return \"I am your Daughter Dad\""
   ]
  },
  {
   "cell_type": "code",
   "execution_count": 34,
   "id": "c7880c77",
   "metadata": {},
   "outputs": [
    {
     "data": {
      "text/plain": [
       "'I am your Father'"
      ]
     },
     "execution_count": 34,
     "metadata": {},
     "output_type": "execute_result"
    }
   ],
   "source": [
    "obj1 = son()\n",
    "obj2 = daughter()\n",
    "obj1.father()"
   ]
  },
  {
   "cell_type": "code",
   "execution_count": 35,
   "id": "dcf9530a",
   "metadata": {},
   "outputs": [
    {
     "data": {
      "text/plain": [
       "'I am your Father'"
      ]
     },
     "execution_count": 35,
     "metadata": {},
     "output_type": "execute_result"
    }
   ],
   "source": [
    "obj2.father()"
   ]
  },
  {
   "cell_type": "markdown",
   "id": "d2e0b334",
   "metadata": {},
   "source": [
    "#### Q4. What are getter and setter in python? Create a class and create a getter and a setter method in this class."
   ]
  },
  {
   "cell_type": "code",
   "execution_count": 44,
   "id": "c3f33250",
   "metadata": {},
   "outputs": [],
   "source": [
    "class tuition:\n",
    "    def __init__(self, student_name):\n",
    "        self.__student_name = student_name\n",
    "\n",
    "    def get_details(self):\n",
    "        return self.__student_name\n",
    "    \n",
    "    def set_details(self,name):\n",
    "        self.__student_name = name\n",
    "        "
   ]
  },
  {
   "cell_type": "code",
   "execution_count": 45,
   "id": "99aa012a",
   "metadata": {},
   "outputs": [],
   "source": [
    "obj = tuition(\"Vasu\")"
   ]
  },
  {
   "cell_type": "markdown",
   "id": "b33a2669",
   "metadata": {},
   "source": [
    "Getter: A method that allows you to access an attribute in a given class"
   ]
  },
  {
   "cell_type": "code",
   "execution_count": 46,
   "id": "8f7d2acc",
   "metadata": {},
   "outputs": [
    {
     "data": {
      "text/plain": [
       "'Vasu'"
      ]
     },
     "execution_count": 46,
     "metadata": {},
     "output_type": "execute_result"
    }
   ],
   "source": [
    "obj.get_details()\n"
   ]
  },
  {
   "cell_type": "markdown",
   "id": "4542aaf2",
   "metadata": {},
   "source": [
    " Setter: A method that allows you to set or mutate the value of an attribute in a class."
   ]
  },
  {
   "cell_type": "code",
   "execution_count": 48,
   "id": "21912c84",
   "metadata": {},
   "outputs": [
    {
     "data": {
      "text/plain": [
       "'Lucky'"
      ]
     },
     "execution_count": 48,
     "metadata": {},
     "output_type": "execute_result"
    }
   ],
   "source": [
    "obj.set_details(\"Lucky\")\n",
    "obj.get_details()"
   ]
  },
  {
   "cell_type": "markdown",
   "id": "9132c484",
   "metadata": {},
   "source": [
    "#### Q5.What is method overriding in python? Write a python code to demonstrate method overriding."
   ]
  },
  {
   "cell_type": "markdown",
   "id": "4587dd31",
   "metadata": {},
   "source": [
    "##### Ans\n",
    "Method overriding in Python is when you have two methods with the same name that each perform different tasks."
   ]
  },
  {
   "cell_type": "code",
   "execution_count": 54,
   "id": "21200bda",
   "metadata": {},
   "outputs": [],
   "source": [
    "class A:\n",
    "    def display():\n",
    "        print(\"A\")\n",
    "        \n",
    "class B(A):\n",
    "    def display(self):\n",
    "        print(\"B\")"
   ]
  },
  {
   "cell_type": "code",
   "execution_count": 55,
   "id": "1ba86306",
   "metadata": {},
   "outputs": [
    {
     "name": "stdout",
     "output_type": "stream",
     "text": [
      "B\n"
     ]
    }
   ],
   "source": [
    "obj = B()\n",
    "obj.display()"
   ]
  }
 ],
 "metadata": {
  "kernelspec": {
   "display_name": "Python 3 (ipykernel)",
   "language": "python",
   "name": "python3"
  },
  "language_info": {
   "codemirror_mode": {
    "name": "ipython",
    "version": 3
   },
   "file_extension": ".py",
   "mimetype": "text/x-python",
   "name": "python",
   "nbconvert_exporter": "python",
   "pygments_lexer": "ipython3",
   "version": "3.9.13"
  }
 },
 "nbformat": 4,
 "nbformat_minor": 5
}
