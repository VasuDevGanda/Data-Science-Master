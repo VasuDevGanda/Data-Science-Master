{
 "cells": [
  {
   "cell_type": "markdown",
   "id": "61dc0ac1",
   "metadata": {},
   "source": [
    "## Assignment: Introduction to Machine Learning-1"
   ]
  },
  {
   "cell_type": "markdown",
   "id": "047e9fe9",
   "metadata": {},
   "source": [
    "### Q.1 Explain the following with an example:\n",
    "\n",
    "- Artificial Intelligence\n",
    "- Machine Learning\n",
    "- Deep Learning"
   ]
  },
  {
   "cell_type": "markdown",
   "id": "5e2befad",
   "metadata": {},
   "source": [
    "**Ans:** \n",
    "- Artifiial Intelligence : Artificial intelligence (AI) is the ability of a computer or a robot controlled by a computer to do tasks that are usually done by humans because they require human intelligence.\n",
    "\n",
    "- Machine Learning: It is a subset of AI which focuses on the use of data and algorithms to imitate the way humans learns, gradually improve its accuracy.\n",
    "\n",
    "- Deep Learning: eep learning is a subset of machine learning, which is essentially a neural network with three or more layers. These neural networks attempt to simulate the behavior of the human brain—albeit far from matching its ability—allowing it to “learn” from large amounts of data."
   ]
  },
  {
   "cell_type": "markdown",
   "id": "44c327b3",
   "metadata": {},
   "source": [
    "### Q.2 What is supervised learning? List some examples of supervised learning."
   ]
  },
  {
   "cell_type": "markdown",
   "id": "6d2db22f",
   "metadata": {},
   "source": [
    "**Ans:** supervised machine learning is a subcategory of machine learning and artificial intelligence. It is defined by its use of labeled datasets to train algorithms that to classify data or predict outcomes accurately.\n",
    "\n",
    "Image and speech recognition, recommendation systems, and fraud detection are all examples of how supervised learning is used."
   ]
  },
  {
   "cell_type": "markdown",
   "id": "e71d6671",
   "metadata": {},
   "source": [
    "### Q.3 What is unsupervised learning? List some examples of supervised learning."
   ]
  },
  {
   "cell_type": "markdown",
   "id": "6e226b03",
   "metadata": {},
   "source": [
    "**Ans:** In unsupervised learning, the models are trained with the data that is neither classified nor labelled, and the model acts on that data without any supervision.\n",
    "\n",
    "Unsupervised Learning areas of application include market basket analysis, semantic clustering, recommender systems, etc."
   ]
  },
  {
   "cell_type": "markdown",
   "id": "b11daf6b",
   "metadata": {},
   "source": [
    "### Q.3 What is the difference between AI, ML, DL and DS?"
   ]
  },
  {
   "cell_type": "markdown",
   "id": "2ca2335e",
   "metadata": {},
   "source": [
    "**Ans:** AI is a computer algoritm which exhibits intelligence through decision making. Where as ML is an AI algorithm which allows system to learn from data. DL is a Ml algorithm that uses deep neural netwroks to analyze data and provide output accordingly. On the other hand Data Science uses the concept of AI, ML and DL to perform its work as well as it uses high level of mathematics that include statistics, Linear algebra, probability and calculas.\n",
    "\n",
    "In short we can say DL is a subset of ML, and ML is a subset of AI but DS include all three of them along with mathematics."
   ]
  },
  {
   "cell_type": "markdown",
   "id": "9ef850fc",
   "metadata": {},
   "source": [
    "### Q.4 What are the main difference between supervised, unsupervised and semi-supervised learning?"
   ]
  },
  {
   "cell_type": "markdown",
   "id": "3c0f4b33",
   "metadata": {},
   "source": [
    "**Ans:** In supervised ML the dataset used is a lablled data, here the model is trained along with the target vector where as in unsupervised ML the dataset is unlaballed there is no target vector. Semi-Supervised learnig is the mixture of supervised and unsupervised learning so here labelled and unlablelled, both datasets are used."
   ]
  },
  {
   "cell_type": "markdown",
   "id": "54a1a609",
   "metadata": {},
   "source": [
    "### Q.5 What is train test and validation split? Explain the importance of each term."
   ]
  },
  {
   "cell_type": "markdown",
   "id": "3a43c917",
   "metadata": {},
   "source": [
    "**Ans:** Train test and validation split means the whole dataset is divided into three categories i.e. Train data, test data and validation data.\n",
    "- Train Data : It is used for training the model.\n",
    "- Validation data: It is used for hyper parameter tunning.\n",
    "- Test Data: It is used for Testing the model"
   ]
  },
  {
   "cell_type": "markdown",
   "id": "75ceacad",
   "metadata": {},
   "source": [
    "### Q.6 How can unsupervised learning be used in anomaly detection?"
   ]
  },
  {
   "cell_type": "markdown",
   "id": "d283fcb9",
   "metadata": {},
   "source": [
    "**Ans:** This method does require any training data and instead assumes two things about the data ie Only a small percentage of data is anomalous and Any anomaly is statistically different from the normal samples. Based on the above assumptions, the data is then clustered using a similarity measure and the data points which are far off from the cluster are considered to be anomalies."
   ]
  },
  {
   "cell_type": "markdown",
   "id": "f95ba050",
   "metadata": {},
   "source": [
    "### Q.7 List down some common used supervised learning algorithms and unsupervised learning algorithms."
   ]
  },
  {
   "cell_type": "markdown",
   "id": "cfd09430",
   "metadata": {},
   "source": [
    "**Ans: Supervised Learning algorithm:**\n",
    "- Random Forest Algorithm\n",
    "- Decision Tree Algorithm\n",
    "- Logistic Regression Algorithm\n",
    "- Support Vector Machine Algorithm\n",
    "- Simple Linear Regression Algorithm\n",
    "- Multivariate Regression Algorithm\n",
    "- Decision Tree Algorithm\n",
    "- Lasso Regression\n",
    "\n",
    "**Unsupervised Learning algorithm:**"
   ]
  }
 ],
 "metadata": {
  "kernelspec": {
   "display_name": "Python 3 (ipykernel)",
   "language": "python",
   "name": "python3"
  },
  "language_info": {
   "codemirror_mode": {
    "name": "ipython",
    "version": 3
   },
   "file_extension": ".py",
   "mimetype": "text/x-python",
   "name": "python",
   "nbconvert_exporter": "python",
   "pygments_lexer": "ipython3",
   "version": "3.9.13"
  }
 },
 "nbformat": 4,
 "nbformat_minor": 5
}
