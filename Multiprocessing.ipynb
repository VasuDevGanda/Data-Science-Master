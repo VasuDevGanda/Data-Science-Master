{
 "cells": [
  {
   "cell_type": "markdown",
   "id": "f4c223a7",
   "metadata": {},
   "source": [
    "## Assignment : Multiprocessing"
   ]
  },
  {
   "cell_type": "markdown",
   "id": "5c913d97",
   "metadata": {},
   "source": [
    "#### Q1. What is multiprocessing in python? Why is it useful?"
   ]
  },
  {
   "cell_type": "markdown",
   "id": "93baa57f",
   "metadata": {},
   "source": [
    "**Ans:**\n",
    "Multiprocessing in Python is a module that enables the execution of multiple processes in parallel, taking advantage of multiple processors or CPU cores. It allows for the creation of separate processes, each with its own memory space, that can execute tasks concurrently.\n",
    "\n",
    "Multiprocessing in Python is useful because it enables the concurrent execution of multiple processes, resulting in improved performance, efficient resource utilization, fault isolation, and effective interprocess communication. It allows programs to take advantage of multiple CPU cores, leading to faster execution of computationally intensive tasks and better handling of large datasets. By distributing the workload among processes, multiprocessing maximizes the use of system resources and prevents resource contention. It also enhances program stability by isolating errors to individual processes. Furthermore, multiprocessing provides communication mechanisms that facilitate data exchange and coordination between processes. "
   ]
  },
  {
   "cell_type": "markdown",
   "id": "3cc85bdb",
   "metadata": {},
   "source": [
    "#### Q2. What are the differences between multiprocessing and multithreading?"
   ]
  },
  {
   "cell_type": "markdown",
   "id": "1525ca75",
   "metadata": {},
   "source": [
    "**Ans:** \n",
    "The key differences between multiprocessing and multithreading are as follows:\n",
    "\n",
    "- Execution Model:\n",
    "  - Multiprocessing: Multiple independent processes with separate memory spaces.\n",
    "  - Multithreading: Multiple concurrent threads within a single process, sharing the same memory space.\n",
    "\n",
    "- Concurrency and Parallelism:\n",
    "  - Multiprocessing: True parallelism with processes running on different CPU cores.\n",
    "  - Multithreading: Concurrency within a single CPU core, not achieving true parallelism.\n",
    "\n",
    "- Resource Usage:\n",
    "  - Multiprocessing: Higher memory consumption due to separate memory spaces for each process.\n",
    "  - Multithreading: Lower memory usage as threads share the same memory space.\n",
    "\n",
    "- Communication and Synchronization:\n",
    "  - Multiprocessing: Requires interprocess communication mechanisms, complex synchronization between processes.\n",
    "  - Multithreading: Easier communication through shared memory, but requires proper synchronization to avoid concurrency issues.\n",
    "\n",
    "- Use Cases:\n",
    "  - Multiprocessing: CPU-bound tasks, computationally intensive operations, and independent processes.\n",
    "  - Multithreading: I/O-bound tasks, network operations, file handling, and tasks with frequent data sharing within a single process.\n",
    "\n"
   ]
  },
  {
   "cell_type": "markdown",
   "id": "2357f4bc",
   "metadata": {},
   "source": [
    "#### Q4. Write a python code to create a process using the multiprocessing module."
   ]
  },
  {
   "cell_type": "code",
   "execution_count": 1,
   "id": "d96a57e7",
   "metadata": {},
   "outputs": [
    {
     "name": "stdout",
     "output_type": "stream",
     "text": [
      "Main process completed\n"
     ]
    }
   ],
   "source": [
    "import multiprocessing\n",
    "\n",
    "def func():\n",
    "    print(\"just for an example!\")\n",
    "    \n",
    "if __name__ == \"__main__\":\n",
    "    process = multiprocessing.Process(target = func)\n",
    "    process.start()\n",
    "    process.join()\n",
    "    print(\"Main process completed\")\n"
   ]
  },
  {
   "cell_type": "markdown",
   "id": "aaba10f6",
   "metadata": {},
   "source": [
    "#### Q5. How can we create a pool of worker processes in python using the multiprocessing module?"
   ]
  },
  {
   "cell_type": "code",
   "execution_count": null,
   "id": "eaa266ed",
   "metadata": {},
   "outputs": [],
   "source": [
    "import multiprocessing\n",
    "\n",
    "def process_function(input_value):\n",
    "    # Perform some computation or task using the input value\n",
    "    result = input_value * 2\n",
    "    return result\n",
    "\n",
    "if __name__ == \"__main__\":\n",
    "    # Create a Pool object with the desired number of processes\n",
    "    pool = multiprocessing.Pool(processes=4)\n",
    "\n",
    "    # Define a list of input values\n",
    "    inputs = [1, 2, 3, 4, 5]\n",
    "\n",
    "    # Apply the process_function to each input value using the Pool's map function\n",
    "    results = pool.map(process_function, inputs)\n",
    "\n",
    "    # Close the Pool to indicate that no more tasks will be submitted\n",
    "    pool.close()\n",
    "\n",
    "    # Wait for all the worker processes to complete\n",
    "    pool.join()\n",
    "\n",
    "    print(\"Results:\", results)\n"
   ]
  },
  {
   "cell_type": "markdown",
   "id": "e9d9f9ab",
   "metadata": {},
   "source": [
    "#### Q6. Write a python program to create 4 processes, each process should print a different number using the multiprocessing module in python."
   ]
  },
  {
   "cell_type": "code",
   "execution_count": 1,
   "id": "832c4171",
   "metadata": {},
   "outputs": [
    {
     "name": "stdout",
     "output_type": "stream",
     "text": [
      "All processes completed\n"
     ]
    }
   ],
   "source": [
    "import multiprocessing\n",
    "\n",
    "def print_number(number):\n",
    "    print(\"Process\", number, \"prints:\", number)\n",
    "\n",
    "if __name__ == \"__main__\":\n",
    "    processes = []\n",
    "\n",
    "    for i in range(4):\n",
    "        # Create a Process object and specify the target function with the corresponding number\n",
    "        process = multiprocessing.Process(target=print_number, args=(i,))\n",
    "        processes.append(process)\n",
    "\n",
    "    for process in processes:\n",
    "        process.start()\n",
    "        process.join()\n",
    "\n",
    "    print(\"All processes completed\")\n",
    "\n"
   ]
  }
 ],
 "metadata": {
  "kernelspec": {
   "display_name": "Python 3 (ipykernel)",
   "language": "python",
   "name": "python3"
  },
  "language_info": {
   "codemirror_mode": {
    "name": "ipython",
    "version": 3
   },
   "file_extension": ".py",
   "mimetype": "text/x-python",
   "name": "python",
   "nbconvert_exporter": "python",
   "pygments_lexer": "ipython3",
   "version": "3.9.13"
  }
 },
 "nbformat": 4,
 "nbformat_minor": 5
}
